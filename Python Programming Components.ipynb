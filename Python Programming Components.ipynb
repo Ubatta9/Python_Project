{
 "cells": [
  {
   "cell_type": "markdown",
   "id": "2af3764c",
   "metadata": {},
   "source": [
    "Literals\n",
    "- Data or value that is stored\n",
    "\n",
    "a = 100\n",
    "\n",
    "Here, 100 is a literal\n",
    "\n",
    "name = \"Mark\" => Here, \"Mark\" is a literal\n",
    "\n",
    " - Numerical\n",
    "   - Integer: Base 10 or Decimal (0-9)\n",
    "   - Binary: Base 2 (0,1) - 0b\n",
    "   - Octal: Base 8 (0-7) - 0o\n",
    "   - Hexadecimal: Base 10 (0-9, A-F) - 0x\n",
    "   - Float - fractional values\n",
    "   - Complex - a+bJ\n",
    "   "
   ]
  },
  {
   "cell_type": "code",
   "execution_count": 1,
   "id": "c2c59008",
   "metadata": {},
   "outputs": [],
   "source": [
    "num1 = 100"
   ]
  },
  {
   "cell_type": "code",
   "execution_count": 2,
   "id": "38f76674",
   "metadata": {},
   "outputs": [
    {
     "name": "stdout",
     "output_type": "stream",
     "text": [
      "100\n"
     ]
    }
   ],
   "source": [
    "print(num1)"
   ]
  },
  {
   "cell_type": "code",
   "execution_count": 3,
   "id": "c2f12db7",
   "metadata": {},
   "outputs": [
    {
     "name": "stdout",
     "output_type": "stream",
     "text": [
      "10\n"
     ]
    }
   ],
   "source": [
    "num2 = 0b1010\n",
    "print(num2)"
   ]
  },
  {
   "cell_type": "code",
   "execution_count": 4,
   "id": "5cf4a176",
   "metadata": {},
   "outputs": [
    {
     "name": "stdout",
     "output_type": "stream",
     "text": [
      "0b1010\n"
     ]
    }
   ],
   "source": [
    "print(bin(10))"
   ]
  },
  {
   "cell_type": "code",
   "execution_count": 5,
   "id": "e0e1dd90",
   "metadata": {},
   "outputs": [
    {
     "name": "stdout",
     "output_type": "stream",
     "text": [
      "16\n"
     ]
    }
   ],
   "source": [
    "num3 = 0o20\n",
    "print(num3)"
   ]
  },
  {
   "cell_type": "code",
   "execution_count": 6,
   "id": "741a1f29",
   "metadata": {},
   "outputs": [
    {
     "name": "stdout",
     "output_type": "stream",
     "text": [
      "0o20\n"
     ]
    }
   ],
   "source": [
    "print(oct(16))"
   ]
  },
  {
   "cell_type": "code",
   "execution_count": 7,
   "id": "09181546",
   "metadata": {},
   "outputs": [
    {
     "name": "stdout",
     "output_type": "stream",
     "text": [
      "16\n"
     ]
    }
   ],
   "source": [
    "num4 = 0x10\n",
    "print(num4)"
   ]
  },
  {
   "cell_type": "code",
   "execution_count": 8,
   "id": "5e384b25",
   "metadata": {},
   "outputs": [
    {
     "name": "stdout",
     "output_type": "stream",
     "text": [
      "47\n"
     ]
    }
   ],
   "source": [
    "num5 = 0x2F\n",
    "print(num5)"
   ]
  },
  {
   "cell_type": "code",
   "execution_count": 9,
   "id": "f88d6ebc",
   "metadata": {},
   "outputs": [
    {
     "data": {
      "text/plain": [
       "'0o57'"
      ]
     },
     "execution_count": 9,
     "metadata": {},
     "output_type": "execute_result"
    }
   ],
   "source": [
    "oct(num5)"
   ]
  },
  {
   "cell_type": "code",
   "execution_count": 10,
   "id": "e1d10196",
   "metadata": {},
   "outputs": [
    {
     "data": {
      "text/plain": [
       "'0b101111'"
      ]
     },
     "execution_count": 10,
     "metadata": {},
     "output_type": "execute_result"
    }
   ],
   "source": [
    "bin(num5)"
   ]
  },
  {
   "cell_type": "code",
   "execution_count": 11,
   "id": "e9b3a6db",
   "metadata": {},
   "outputs": [
    {
     "name": "stdout",
     "output_type": "stream",
     "text": [
      "87.67\n"
     ]
    }
   ],
   "source": [
    "f1 = 87.67\n",
    "print(f1)\n"
   ]
  },
  {
   "cell_type": "code",
   "execution_count": 12,
   "id": "33c6c875",
   "metadata": {},
   "outputs": [],
   "source": [
    "# Complex numbers\n",
    "# Combination of real and imaginary numbers"
   ]
  },
  {
   "cell_type": "code",
   "execution_count": 13,
   "id": "f7657f70",
   "metadata": {},
   "outputs": [
    {
     "name": "stdout",
     "output_type": "stream",
     "text": [
      "(6+5j)\n"
     ]
    }
   ],
   "source": [
    "c1 = 6 + 5j\n",
    "print(c1)"
   ]
  },
  {
   "cell_type": "code",
   "execution_count": 15,
   "id": "305afdae",
   "metadata": {},
   "outputs": [],
   "source": [
    "# j = square root of -1"
   ]
  },
  {
   "cell_type": "markdown",
   "id": "936d5494",
   "metadata": {},
   "source": [
    "Boolean literal:\n",
    " - True\n",
    " - False"
   ]
  },
  {
   "cell_type": "markdown",
   "id": "df9d921d",
   "metadata": {},
   "source": [
    "Special literal:\n",
    " None"
   ]
  },
  {
   "cell_type": "code",
   "execution_count": 16,
   "id": "3b7a0126",
   "metadata": {},
   "outputs": [],
   "source": [
    "val1 = False"
   ]
  },
  {
   "cell_type": "code",
   "execution_count": 17,
   "id": "d84298c4",
   "metadata": {},
   "outputs": [],
   "source": [
    "val2 = True"
   ]
  },
  {
   "cell_type": "code",
   "execution_count": 18,
   "id": "8bc809c2",
   "metadata": {},
   "outputs": [],
   "source": [
    "val3 = None"
   ]
  },
  {
   "cell_type": "markdown",
   "id": "a74cebb1",
   "metadata": {},
   "source": [
    "Strings\n",
    " - Sequence of characters enclosed within quotes (\",'\"\"',\"\"\"\"\"\")"
   ]
  },
  {
   "cell_type": "code",
   "execution_count": 19,
   "id": "d251c1e1",
   "metadata": {},
   "outputs": [],
   "source": [
    "s1 = 'Hello'"
   ]
  },
  {
   "cell_type": "code",
   "execution_count": 20,
   "id": "9a15e40f",
   "metadata": {},
   "outputs": [],
   "source": [
    "name = \"Mark\""
   ]
  },
  {
   "cell_type": "code",
   "execution_count": 21,
   "id": "478858ed",
   "metadata": {},
   "outputs": [],
   "source": [
    "s2 = '''Welcome to Python'''"
   ]
  },
  {
   "cell_type": "code",
   "execution_count": 22,
   "id": "b2480de0",
   "metadata": {},
   "outputs": [],
   "source": [
    "s3 = \"\"\"We are learning components of Python\"\"\""
   ]
  },
  {
   "cell_type": "code",
   "execution_count": 23,
   "id": "1fb77cd4",
   "metadata": {},
   "outputs": [
    {
     "ename": "SyntaxError",
     "evalue": "invalid syntax (395972022.py, line 1)",
     "output_type": "error",
     "traceback": [
      "\u001b[1;36m  File \u001b[1;32m\"C:\\Users\\Umachandra\\AppData\\Local\\Temp\\ipykernel_18412\\395972022.py\"\u001b[1;36m, line \u001b[1;32m1\u001b[0m\n\u001b[1;33m    st1 = 'This is a Python's class'\u001b[0m\n\u001b[1;37m                            ^\u001b[0m\n\u001b[1;31mSyntaxError\u001b[0m\u001b[1;31m:\u001b[0m invalid syntax\n"
     ]
    }
   ],
   "source": [
    "st1 = 'This is a Python's class'"
   ]
  },
  {
   "cell_type": "code",
   "execution_count": 24,
   "id": "50be4fbf",
   "metadata": {},
   "outputs": [],
   "source": [
    "st1 = \"This is Python's class\""
   ]
  },
  {
   "cell_type": "code",
   "execution_count": 25,
   "id": "be3fa87f",
   "metadata": {},
   "outputs": [
    {
     "name": "stdout",
     "output_type": "stream",
     "text": [
      "This is Python's class\n"
     ]
    }
   ],
   "source": [
    "print(st1)"
   ]
  },
  {
   "cell_type": "code",
   "execution_count": 26,
   "id": "f5fbd952",
   "metadata": {},
   "outputs": [],
   "source": [
    "ver = 'Python3.10.3'"
   ]
  },
  {
   "cell_type": "code",
   "execution_count": 27,
   "id": "658dd4a6",
   "metadata": {},
   "outputs": [],
   "source": [
    "st3 =\"100\""
   ]
  },
  {
   "cell_type": "code",
   "execution_count": 28,
   "id": "a8ea2c67",
   "metadata": {},
   "outputs": [
    {
     "name": "stdout",
     "output_type": "stream",
     "text": [
      "Hello everyone\n",
      "Python is fun\n"
     ]
    }
   ],
   "source": [
    "st4 = \"\"\"Hello everyone\n",
    "Python is fun\"\"\"\n",
    "print(st4)"
   ]
  },
  {
   "cell_type": "markdown",
   "id": "152ee48d",
   "metadata": {},
   "source": [
    "Identifier\n",
    " - A name given to a variable or a function or a class\n",
    " \n",
    " var = 100 => Here, var is an identifier (variable)\n",
    " \n",
    " Rules to define an identifier:\n",
    " - Allowed characters are: a-z, A-Z, 0-9, _\n",
    " - No other character apart from above is allowed\n",
    " - It cannot start from a number\n",
    " - An Identifier cannot be a keyword"
   ]
  },
  {
   "cell_type": "code",
   "execution_count": 29,
   "id": "2524a8b0",
   "metadata": {},
   "outputs": [],
   "source": [
    "Value_1 = 100"
   ]
  },
  {
   "cell_type": "code",
   "execution_count": 30,
   "id": "28973765",
   "metadata": {},
   "outputs": [
    {
     "ename": "SyntaxError",
     "evalue": "cannot assign to operator (1039068686.py, line 1)",
     "output_type": "error",
     "traceback": [
      "\u001b[1;36m  File \u001b[1;32m\"C:\\Users\\Umachandra\\AppData\\Local\\Temp\\ipykernel_18412\\1039068686.py\"\u001b[1;36m, line \u001b[1;32m1\u001b[0m\n\u001b[1;33m    Value&1 = 200\u001b[0m\n\u001b[1;37m    ^\u001b[0m\n\u001b[1;31mSyntaxError\u001b[0m\u001b[1;31m:\u001b[0m cannot assign to operator\n"
     ]
    }
   ],
   "source": [
    "Value&1 = 200"
   ]
  },
  {
   "cell_type": "code",
   "execution_count": 31,
   "id": "ef4433fc",
   "metadata": {},
   "outputs": [
    {
     "ename": "SyntaxError",
     "evalue": "invalid syntax (557298651.py, line 1)",
     "output_type": "error",
     "traceback": [
      "\u001b[1;36m  File \u001b[1;32m\"C:\\Users\\Umachandra\\AppData\\Local\\Temp\\ipykernel_18412\\557298651.py\"\u001b[1;36m, line \u001b[1;32m1\u001b[0m\n\u001b[1;33m    1val = 300\u001b[0m\n\u001b[1;37m     ^\u001b[0m\n\u001b[1;31mSyntaxError\u001b[0m\u001b[1;31m:\u001b[0m invalid syntax\n"
     ]
    }
   ],
   "source": [
    "1val = 300"
   ]
  },
  {
   "cell_type": "code",
   "execution_count": 32,
   "id": "7c62525d",
   "metadata": {},
   "outputs": [
    {
     "ename": "SyntaxError",
     "evalue": "invalid syntax (182722112.py, line 1)",
     "output_type": "error",
     "traceback": [
      "\u001b[1;36m  File \u001b[1;32m\"C:\\Users\\Umachandra\\AppData\\Local\\Temp\\ipykernel_18412\\182722112.py\"\u001b[1;36m, line \u001b[1;32m1\u001b[0m\n\u001b[1;33m    if = 10\u001b[0m\n\u001b[1;37m       ^\u001b[0m\n\u001b[1;31mSyntaxError\u001b[0m\u001b[1;31m:\u001b[0m invalid syntax\n"
     ]
    }
   ],
   "source": [
    "if = 10"
   ]
  },
  {
   "cell_type": "code",
   "execution_count": 33,
   "id": "eb454abc",
   "metadata": {},
   "outputs": [],
   "source": [
    "# print = 200 => Do not do this!!!"
   ]
  },
  {
   "cell_type": "markdown",
   "id": "5f1b3e18",
   "metadata": {},
   "source": [
    "Variables:\n",
    " - Names given to store the values\n",
    " var = 100\n",
    " Here, var is a variable"
   ]
  },
  {
   "cell_type": "code",
   "execution_count": 34,
   "id": "6855e5fc",
   "metadata": {},
   "outputs": [],
   "source": [
    "name = \"Mark\""
   ]
  },
  {
   "cell_type": "code",
   "execution_count": 35,
   "id": "b2dcc637",
   "metadata": {},
   "outputs": [],
   "source": [
    "v1b = 100"
   ]
  },
  {
   "cell_type": "markdown",
   "id": "34e80b35",
   "metadata": {},
   "source": [
    "Keywords\n",
    " - Predefined words which are reserved in Python which have special meaning\n",
    " - if, def, else, for, while, ...\n",
    "if => used to write conditional statements\n",
    "\n",
    "def => used to define a user defined function"
   ]
  },
  {
   "cell_type": "markdown",
   "id": "4b7ac578",
   "metadata": {},
   "source": [
    "Constants\n",
    " - Whose value cannot be changed\n",
    " - In Python, we use upper case to define constant values"
   ]
  },
  {
   "cell_type": "code",
   "execution_count": 36,
   "id": "b2713760",
   "metadata": {},
   "outputs": [
    {
     "name": "stdout",
     "output_type": "stream",
     "text": [
      "9.8\n"
     ]
    }
   ],
   "source": [
    "Gravity = 9.8\n",
    "print(Gravity)"
   ]
  },
  {
   "cell_type": "code",
   "execution_count": 37,
   "id": "87443d47",
   "metadata": {},
   "outputs": [
    {
     "name": "stdout",
     "output_type": "stream",
     "text": [
      "10\n"
     ]
    }
   ],
   "source": [
    "Gravity = 10\n",
    "print(Gravity)"
   ]
  },
  {
   "cell_type": "markdown",
   "id": "17d743f4",
   "metadata": {},
   "source": [
    "Comments:\n",
    " - documentation of that code/ line of code\n",
    " - used for understanding what the code is doing\n",
    " - Non executable line of code\n",
    " - we use # for writing single line comment\n",
    " - We use triple quotes for multiline comments"
   ]
  },
  {
   "cell_type": "code",
   "execution_count": 38,
   "id": "3ec48099",
   "metadata": {},
   "outputs": [
    {
     "name": "stdout",
     "output_type": "stream",
     "text": [
      "30\n"
     ]
    }
   ],
   "source": [
    "#Addng 2 numbers\n",
    "a = 10\n",
    "b = 20\n",
    "c = a + b\n",
    "print(c)"
   ]
  },
  {
   "cell_type": "code",
   "execution_count": 40,
   "id": "08222251",
   "metadata": {},
   "outputs": [
    {
     "name": "stdout",
     "output_type": "stream",
     "text": [
      "30\n"
     ]
    }
   ],
   "source": [
    "\"\"\"\n",
    "Addition of numbers\n",
    " Assign 10 to a\n",
    " \"\"\"\n",
    "a = 10\n",
    "# Assign 20 to b\n",
    "b = 20\n",
    "c = a + b # Adding a and b\n",
    "print(c)\n",
    "#print(\"Bye\")"
   ]
  },
  {
   "cell_type": "code",
   "execution_count": 41,
   "id": "0ca4ba73",
   "metadata": {},
   "outputs": [],
   "source": [
    "# Expressions\n",
    "# An expression is a combination of values, variables and operators"
   ]
  },
  {
   "cell_type": "code",
   "execution_count": 42,
   "id": "1d3a19fc",
   "metadata": {},
   "outputs": [],
   "source": [
    "a = 10"
   ]
  },
  {
   "cell_type": "code",
   "execution_count": 43,
   "id": "f5ed4b07",
   "metadata": {},
   "outputs": [
    {
     "data": {
      "text/plain": [
       "40"
      ]
     },
     "execution_count": 43,
     "metadata": {},
     "output_type": "execute_result"
    }
   ],
   "source": [
    "a *2 + 20"
   ]
  },
  {
   "cell_type": "code",
   "execution_count": 44,
   "id": "7be80494",
   "metadata": {},
   "outputs": [],
   "source": [
    "# Expression evaluates to a value"
   ]
  },
  {
   "cell_type": "code",
   "execution_count": 45,
   "id": "e64c092b",
   "metadata": {},
   "outputs": [
    {
     "data": {
      "text/plain": [
       "20"
      ]
     },
     "execution_count": 45,
     "metadata": {},
     "output_type": "execute_result"
    }
   ],
   "source": [
    "20"
   ]
  },
  {
   "cell_type": "code",
   "execution_count": 46,
   "id": "88444cc6",
   "metadata": {},
   "outputs": [],
   "source": [
    "# Statements\n",
    "# Instructions in a program"
   ]
  },
  {
   "cell_type": "code",
   "execution_count": 47,
   "id": "0eba951c",
   "metadata": {},
   "outputs": [],
   "source": [
    "result = a * 2 + 20"
   ]
  },
  {
   "cell_type": "code",
   "execution_count": 48,
   "id": "b30a1e7c",
   "metadata": {},
   "outputs": [],
   "source": [
    "name = \"Mark\""
   ]
  },
  {
   "cell_type": "code",
   "execution_count": 49,
   "id": "e9916711",
   "metadata": {},
   "outputs": [],
   "source": [
    "age = 40"
   ]
  },
  {
   "cell_type": "code",
   "execution_count": 50,
   "id": "fa9d8bbf",
   "metadata": {},
   "outputs": [],
   "source": [
    "# Blocks\n",
    "# Combinations of statements\n",
    "# Suites  are also blocks"
   ]
  },
  {
   "cell_type": "code",
   "execution_count": 52,
   "id": "107394a0",
   "metadata": {},
   "outputs": [
    {
     "name": "stdout",
     "output_type": "stream",
     "text": [
      "Hello\n"
     ]
    }
   ],
   "source": [
    "num = 90\n",
    "if num > 50:\n",
    "    print(\"Hello\")"
   ]
  },
  {
   "cell_type": "code",
   "execution_count": 54,
   "id": "a883981e",
   "metadata": {},
   "outputs": [
    {
     "name": "stdout",
     "output_type": "stream",
     "text": [
      "Bye\n"
     ]
    }
   ],
   "source": [
    "num = 40\n",
    "if num > 50:\n",
    "    print(\"Hello\")\n",
    "else:\n",
    "    print(\"Bye\")"
   ]
  },
  {
   "cell_type": "code",
   "execution_count": null,
   "id": "e695eeb5",
   "metadata": {},
   "outputs": [],
   "source": []
  }
 ],
 "metadata": {
  "kernelspec": {
   "display_name": "Python 3 (ipykernel)",
   "language": "python",
   "name": "python3"
  },
  "language_info": {
   "codemirror_mode": {
    "name": "ipython",
    "version": 3
   },
   "file_extension": ".py",
   "mimetype": "text/x-python",
   "name": "python",
   "nbconvert_exporter": "python",
   "pygments_lexer": "ipython3",
   "version": "3.9.13"
  }
 },
 "nbformat": 4,
 "nbformat_minor": 5
}
