{
 "cells": [
  {
   "cell_type": "markdown",
   "id": "7d61e54a",
   "metadata": {},
   "source": [
    "1. Fundamental datatypes\n",
    " - integers\n",
    " - floats\n",
    " - strings\n",
    " - complex\n",
    " - Boolean\n",
    " - None\n",
    " \n",
    "2. Derived datatypes\n",
    " - Lists\n",
    " - Tuples\n",
    " - Sets\n",
    " - Dictionaries\n",
    " - Frozen set"
   ]
  },
  {
   "cell_type": "code",
   "execution_count": 1,
   "id": "74b67f01",
   "metadata": {},
   "outputs": [],
   "source": [
    "# Integers"
   ]
  },
  {
   "cell_type": "code",
   "execution_count": 2,
   "id": "8166c0eb",
   "metadata": {},
   "outputs": [],
   "source": [
    "num1 = 100"
   ]
  },
  {
   "cell_type": "code",
   "execution_count": 3,
   "id": "038c8b17",
   "metadata": {},
   "outputs": [
    {
     "name": "stdout",
     "output_type": "stream",
     "text": [
      "<class 'int'>\n"
     ]
    }
   ],
   "source": [
    "print(type(num1))"
   ]
  },
  {
   "cell_type": "code",
   "execution_count": 4,
   "id": "fbe13574",
   "metadata": {},
   "outputs": [
    {
     "name": "stdout",
     "output_type": "stream",
     "text": [
      "Help on class int in module builtins:\n",
      "\n",
      "class int(object)\n",
      " |  int([x]) -> integer\n",
      " |  int(x, base=10) -> integer\n",
      " |  \n",
      " |  Convert a number or string to an integer, or return 0 if no arguments\n",
      " |  are given.  If x is a number, return x.__int__().  For floating point\n",
      " |  numbers, this truncates towards zero.\n",
      " |  \n",
      " |  If x is not a number or if base is given, then x must be a string,\n",
      " |  bytes, or bytearray instance representing an integer literal in the\n",
      " |  given base.  The literal can be preceded by '+' or '-' and be surrounded\n",
      " |  by whitespace.  The base defaults to 10.  Valid bases are 0 and 2-36.\n",
      " |  Base 0 means to interpret the base from the string as an integer literal.\n",
      " |  >>> int('0b100', base=0)\n",
      " |  4\n",
      " |  \n",
      " |  Built-in subclasses:\n",
      " |      bool\n",
      " |  \n",
      " |  Methods defined here:\n",
      " |  \n",
      " |  __abs__(self, /)\n",
      " |      abs(self)\n",
      " |  \n",
      " |  __add__(self, value, /)\n",
      " |      Return self+value.\n",
      " |  \n",
      " |  __and__(self, value, /)\n",
      " |      Return self&value.\n",
      " |  \n",
      " |  __bool__(self, /)\n",
      " |      True if self else False\n",
      " |  \n",
      " |  __ceil__(...)\n",
      " |      Ceiling of an Integral returns itself.\n",
      " |  \n",
      " |  __divmod__(self, value, /)\n",
      " |      Return divmod(self, value).\n",
      " |  \n",
      " |  __eq__(self, value, /)\n",
      " |      Return self==value.\n",
      " |  \n",
      " |  __float__(self, /)\n",
      " |      float(self)\n",
      " |  \n",
      " |  __floor__(...)\n",
      " |      Flooring an Integral returns itself.\n",
      " |  \n",
      " |  __floordiv__(self, value, /)\n",
      " |      Return self//value.\n",
      " |  \n",
      " |  __format__(self, format_spec, /)\n",
      " |      Default object formatter.\n",
      " |  \n",
      " |  __ge__(self, value, /)\n",
      " |      Return self>=value.\n",
      " |  \n",
      " |  __getattribute__(self, name, /)\n",
      " |      Return getattr(self, name).\n",
      " |  \n",
      " |  __getnewargs__(self, /)\n",
      " |  \n",
      " |  __gt__(self, value, /)\n",
      " |      Return self>value.\n",
      " |  \n",
      " |  __hash__(self, /)\n",
      " |      Return hash(self).\n",
      " |  \n",
      " |  __index__(self, /)\n",
      " |      Return self converted to an integer, if self is suitable for use as an index into a list.\n",
      " |  \n",
      " |  __int__(self, /)\n",
      " |      int(self)\n",
      " |  \n",
      " |  __invert__(self, /)\n",
      " |      ~self\n",
      " |  \n",
      " |  __le__(self, value, /)\n",
      " |      Return self<=value.\n",
      " |  \n",
      " |  __lshift__(self, value, /)\n",
      " |      Return self<<value.\n",
      " |  \n",
      " |  __lt__(self, value, /)\n",
      " |      Return self<value.\n",
      " |  \n",
      " |  __mod__(self, value, /)\n",
      " |      Return self%value.\n",
      " |  \n",
      " |  __mul__(self, value, /)\n",
      " |      Return self*value.\n",
      " |  \n",
      " |  __ne__(self, value, /)\n",
      " |      Return self!=value.\n",
      " |  \n",
      " |  __neg__(self, /)\n",
      " |      -self\n",
      " |  \n",
      " |  __or__(self, value, /)\n",
      " |      Return self|value.\n",
      " |  \n",
      " |  __pos__(self, /)\n",
      " |      +self\n",
      " |  \n",
      " |  __pow__(self, value, mod=None, /)\n",
      " |      Return pow(self, value, mod).\n",
      " |  \n",
      " |  __radd__(self, value, /)\n",
      " |      Return value+self.\n",
      " |  \n",
      " |  __rand__(self, value, /)\n",
      " |      Return value&self.\n",
      " |  \n",
      " |  __rdivmod__(self, value, /)\n",
      " |      Return divmod(value, self).\n",
      " |  \n",
      " |  __repr__(self, /)\n",
      " |      Return repr(self).\n",
      " |  \n",
      " |  __rfloordiv__(self, value, /)\n",
      " |      Return value//self.\n",
      " |  \n",
      " |  __rlshift__(self, value, /)\n",
      " |      Return value<<self.\n",
      " |  \n",
      " |  __rmod__(self, value, /)\n",
      " |      Return value%self.\n",
      " |  \n",
      " |  __rmul__(self, value, /)\n",
      " |      Return value*self.\n",
      " |  \n",
      " |  __ror__(self, value, /)\n",
      " |      Return value|self.\n",
      " |  \n",
      " |  __round__(...)\n",
      " |      Rounding an Integral returns itself.\n",
      " |      Rounding with an ndigits argument also returns an integer.\n",
      " |  \n",
      " |  __rpow__(self, value, mod=None, /)\n",
      " |      Return pow(value, self, mod).\n",
      " |  \n",
      " |  __rrshift__(self, value, /)\n",
      " |      Return value>>self.\n",
      " |  \n",
      " |  __rshift__(self, value, /)\n",
      " |      Return self>>value.\n",
      " |  \n",
      " |  __rsub__(self, value, /)\n",
      " |      Return value-self.\n",
      " |  \n",
      " |  __rtruediv__(self, value, /)\n",
      " |      Return value/self.\n",
      " |  \n",
      " |  __rxor__(self, value, /)\n",
      " |      Return value^self.\n",
      " |  \n",
      " |  __sizeof__(self, /)\n",
      " |      Returns size in memory, in bytes.\n",
      " |  \n",
      " |  __sub__(self, value, /)\n",
      " |      Return self-value.\n",
      " |  \n",
      " |  __truediv__(self, value, /)\n",
      " |      Return self/value.\n",
      " |  \n",
      " |  __trunc__(...)\n",
      " |      Truncating an Integral returns itself.\n",
      " |  \n",
      " |  __xor__(self, value, /)\n",
      " |      Return self^value.\n",
      " |  \n",
      " |  as_integer_ratio(self, /)\n",
      " |      Return integer ratio.\n",
      " |      \n",
      " |      Return a pair of integers, whose ratio is exactly equal to the original int\n",
      " |      and with a positive denominator.\n",
      " |      \n",
      " |      >>> (10).as_integer_ratio()\n",
      " |      (10, 1)\n",
      " |      >>> (-10).as_integer_ratio()\n",
      " |      (-10, 1)\n",
      " |      >>> (0).as_integer_ratio()\n",
      " |      (0, 1)\n",
      " |  \n",
      " |  bit_length(self, /)\n",
      " |      Number of bits necessary to represent self in binary.\n",
      " |      \n",
      " |      >>> bin(37)\n",
      " |      '0b100101'\n",
      " |      >>> (37).bit_length()\n",
      " |      6\n",
      " |  \n",
      " |  conjugate(...)\n",
      " |      Returns self, the complex conjugate of any int.\n",
      " |  \n",
      " |  to_bytes(self, /, length, byteorder, *, signed=False)\n",
      " |      Return an array of bytes representing an integer.\n",
      " |      \n",
      " |      length\n",
      " |        Length of bytes object to use.  An OverflowError is raised if the\n",
      " |        integer is not representable with the given number of bytes.\n",
      " |      byteorder\n",
      " |        The byte order used to represent the integer.  If byteorder is 'big',\n",
      " |        the most significant byte is at the beginning of the byte array.  If\n",
      " |        byteorder is 'little', the most significant byte is at the end of the\n",
      " |        byte array.  To request the native byte order of the host system, use\n",
      " |        `sys.byteorder' as the byte order value.\n",
      " |      signed\n",
      " |        Determines whether two's complement is used to represent the integer.\n",
      " |        If signed is False and a negative integer is given, an OverflowError\n",
      " |        is raised.\n",
      " |  \n",
      " |  ----------------------------------------------------------------------\n",
      " |  Class methods defined here:\n",
      " |  \n",
      " |  from_bytes(bytes, byteorder, *, signed=False) from builtins.type\n",
      " |      Return the integer represented by the given array of bytes.\n",
      " |      \n",
      " |      bytes\n",
      " |        Holds the array of bytes to convert.  The argument must either\n",
      " |        support the buffer protocol or be an iterable object producing bytes.\n",
      " |        Bytes and bytearray are examples of built-in objects that support the\n",
      " |        buffer protocol.\n",
      " |      byteorder\n",
      " |        The byte order used to represent the integer.  If byteorder is 'big',\n",
      " |        the most significant byte is at the beginning of the byte array.  If\n",
      " |        byteorder is 'little', the most significant byte is at the end of the\n",
      " |        byte array.  To request the native byte order of the host system, use\n",
      " |        `sys.byteorder' as the byte order value.\n",
      " |      signed\n",
      " |        Indicates whether two's complement is used to represent the integer.\n",
      " |  \n",
      " |  ----------------------------------------------------------------------\n",
      " |  Static methods defined here:\n",
      " |  \n",
      " |  __new__(*args, **kwargs) from builtins.type\n",
      " |      Create and return a new object.  See help(type) for accurate signature.\n",
      " |  \n",
      " |  ----------------------------------------------------------------------\n",
      " |  Data descriptors defined here:\n",
      " |  \n",
      " |  denominator\n",
      " |      the denominator of a rational number in lowest terms\n",
      " |  \n",
      " |  imag\n",
      " |      the imaginary part of a complex number\n",
      " |  \n",
      " |  numerator\n",
      " |      the numerator of a rational number in lowest terms\n",
      " |  \n",
      " |  real\n",
      " |      the real part of a complex number\n",
      "\n"
     ]
    }
   ],
   "source": [
    "help(int)"
   ]
  },
  {
   "cell_type": "code",
   "execution_count": 5,
   "id": "bfcd7c40",
   "metadata": {},
   "outputs": [
    {
     "name": "stdout",
     "output_type": "stream",
     "text": [
      "11\n",
      "<class 'int'>\n"
     ]
    }
   ],
   "source": [
    "num2 = 0b1011\n",
    "print(num2)\n",
    "print(type(num2))"
   ]
  },
  {
   "cell_type": "code",
   "execution_count": 6,
   "id": "1099bf4f",
   "metadata": {},
   "outputs": [],
   "source": [
    "# Binary, hexa, octa are representation of integer type"
   ]
  },
  {
   "cell_type": "code",
   "execution_count": 7,
   "id": "862365cd",
   "metadata": {},
   "outputs": [
    {
     "data": {
      "text/plain": [
       "111"
      ]
     },
     "execution_count": 7,
     "metadata": {},
     "output_type": "execute_result"
    }
   ],
   "source": [
    "num1 + num2"
   ]
  },
  {
   "cell_type": "code",
   "execution_count": 8,
   "id": "7a219f48",
   "metadata": {},
   "outputs": [
    {
     "data": {
      "text/plain": [
       "89"
      ]
     },
     "execution_count": 8,
     "metadata": {},
     "output_type": "execute_result"
    }
   ],
   "source": [
    "num1 - num2"
   ]
  },
  {
   "cell_type": "code",
   "execution_count": 9,
   "id": "482dfebd",
   "metadata": {},
   "outputs": [
    {
     "data": {
      "text/plain": [
       "1100"
      ]
     },
     "execution_count": 9,
     "metadata": {},
     "output_type": "execute_result"
    }
   ],
   "source": [
    "num1 * num2"
   ]
  },
  {
   "cell_type": "code",
   "execution_count": 10,
   "id": "93851ce1",
   "metadata": {},
   "outputs": [
    {
     "data": {
      "text/plain": [
       "9.090909090909092"
      ]
     },
     "execution_count": 10,
     "metadata": {},
     "output_type": "execute_result"
    }
   ],
   "source": [
    "num1 / num2"
   ]
  },
  {
   "cell_type": "code",
   "execution_count": 11,
   "id": "96d63be4",
   "metadata": {},
   "outputs": [],
   "source": [
    "# Float"
   ]
  },
  {
   "cell_type": "code",
   "execution_count": 12,
   "id": "59ec25f5",
   "metadata": {},
   "outputs": [
    {
     "name": "stdout",
     "output_type": "stream",
     "text": [
      "100.5\n",
      "<class 'float'>\n"
     ]
    }
   ],
   "source": [
    "f1 = 100.5\n",
    "print(f1)\n",
    "print(type(f1))"
   ]
  },
  {
   "cell_type": "code",
   "execution_count": 13,
   "id": "c4ecb07f",
   "metadata": {},
   "outputs": [
    {
     "data": {
      "text/plain": [
       "200.5"
      ]
     },
     "execution_count": 13,
     "metadata": {},
     "output_type": "execute_result"
    }
   ],
   "source": [
    "num1 + f1"
   ]
  },
  {
   "cell_type": "code",
   "execution_count": 14,
   "id": "e4136032",
   "metadata": {},
   "outputs": [
    {
     "name": "stdout",
     "output_type": "stream",
     "text": [
      "<class 'float'>\n"
     ]
    }
   ],
   "source": [
    "print(type(num1 + f1))"
   ]
  },
  {
   "cell_type": "code",
   "execution_count": 15,
   "id": "fe323e4d",
   "metadata": {},
   "outputs": [
    {
     "name": "stdout",
     "output_type": "stream",
     "text": [
      "2980459439344\n"
     ]
    }
   ],
   "source": [
    "print(id(num1 + f1))"
   ]
  },
  {
   "cell_type": "code",
   "execution_count": 16,
   "id": "fa5b0932",
   "metadata": {},
   "outputs": [
    {
     "data": {
      "text/plain": [
       "20.0"
      ]
     },
     "execution_count": 16,
     "metadata": {},
     "output_type": "execute_result"
    }
   ],
   "source": [
    "100 / 5"
   ]
  },
  {
   "cell_type": "code",
   "execution_count": 17,
   "id": "0c31c2bb",
   "metadata": {},
   "outputs": [
    {
     "data": {
      "text/plain": [
       "20"
      ]
     },
     "execution_count": 17,
     "metadata": {},
     "output_type": "execute_result"
    }
   ],
   "source": [
    "100 // 5"
   ]
  },
  {
   "cell_type": "code",
   "execution_count": 18,
   "id": "bb1314bf",
   "metadata": {},
   "outputs": [
    {
     "data": {
      "text/plain": [
       "33.333333333333336"
      ]
     },
     "execution_count": 18,
     "metadata": {},
     "output_type": "execute_result"
    }
   ],
   "source": [
    "100 / 3"
   ]
  },
  {
   "cell_type": "code",
   "execution_count": 19,
   "id": "c8d1729c",
   "metadata": {},
   "outputs": [
    {
     "data": {
      "text/plain": [
       "33"
      ]
     },
     "execution_count": 19,
     "metadata": {},
     "output_type": "execute_result"
    }
   ],
   "source": [
    "100 // 3"
   ]
  },
  {
   "cell_type": "code",
   "execution_count": 20,
   "id": "ce9f80c8",
   "metadata": {},
   "outputs": [
    {
     "data": {
      "text/plain": [
       "16.666666666666668"
      ]
     },
     "execution_count": 20,
     "metadata": {},
     "output_type": "execute_result"
    }
   ],
   "source": [
    "100 / 6"
   ]
  },
  {
   "cell_type": "code",
   "execution_count": 21,
   "id": "f0ca93f7",
   "metadata": {},
   "outputs": [
    {
     "data": {
      "text/plain": [
       "16"
      ]
     },
     "execution_count": 21,
     "metadata": {},
     "output_type": "execute_result"
    }
   ],
   "source": [
    "100 // 6"
   ]
  },
  {
   "cell_type": "code",
   "execution_count": 22,
   "id": "576a86f4",
   "metadata": {},
   "outputs": [],
   "source": [
    "# Complex"
   ]
  },
  {
   "cell_type": "code",
   "execution_count": 23,
   "id": "6a5af4eb",
   "metadata": {},
   "outputs": [
    {
     "name": "stdout",
     "output_type": "stream",
     "text": [
      "(6+5j)\n",
      "<class 'complex'>\n"
     ]
    }
   ],
   "source": [
    "c1 = 6 + 5j\n",
    "print(c1)\n",
    "print(type(c1))"
   ]
  },
  {
   "cell_type": "code",
   "execution_count": 24,
   "id": "ffefcb07",
   "metadata": {},
   "outputs": [],
   "source": [
    "c2 = 4 - 3j\n"
   ]
  },
  {
   "cell_type": "code",
   "execution_count": 25,
   "id": "d467875d",
   "metadata": {},
   "outputs": [
    {
     "data": {
      "text/plain": [
       "(6+5j)"
      ]
     },
     "execution_count": 25,
     "metadata": {},
     "output_type": "execute_result"
    }
   ],
   "source": [
    "c1"
   ]
  },
  {
   "cell_type": "code",
   "execution_count": 26,
   "id": "0e1407af",
   "metadata": {},
   "outputs": [
    {
     "data": {
      "text/plain": [
       "(4-3j)"
      ]
     },
     "execution_count": 26,
     "metadata": {},
     "output_type": "execute_result"
    }
   ],
   "source": [
    "c2"
   ]
  },
  {
   "cell_type": "code",
   "execution_count": 27,
   "id": "d1f0a2ea",
   "metadata": {},
   "outputs": [
    {
     "data": {
      "text/plain": [
       "(10+2j)"
      ]
     },
     "execution_count": 27,
     "metadata": {},
     "output_type": "execute_result"
    }
   ],
   "source": [
    "c1 + c2"
   ]
  },
  {
   "cell_type": "code",
   "execution_count": 28,
   "id": "d1aaef97",
   "metadata": {},
   "outputs": [
    {
     "data": {
      "text/plain": [
       "(2+8j)"
      ]
     },
     "execution_count": 28,
     "metadata": {},
     "output_type": "execute_result"
    }
   ],
   "source": [
    "c1 - c2"
   ]
  },
  {
   "cell_type": "code",
   "execution_count": 29,
   "id": "421db41b",
   "metadata": {},
   "outputs": [
    {
     "data": {
      "text/plain": [
       "(39+2j)"
      ]
     },
     "execution_count": 29,
     "metadata": {},
     "output_type": "execute_result"
    }
   ],
   "source": [
    "c1 * c2"
   ]
  },
  {
   "cell_type": "code",
   "execution_count": 30,
   "id": "a4d4704c",
   "metadata": {},
   "outputs": [
    {
     "data": {
      "text/plain": [
       "(0.36+1.52j)"
      ]
     },
     "execution_count": 30,
     "metadata": {},
     "output_type": "execute_result"
    }
   ],
   "source": [
    "c1 / c2"
   ]
  },
  {
   "cell_type": "code",
   "execution_count": 31,
   "id": "0f872195",
   "metadata": {},
   "outputs": [
    {
     "name": "stdout",
     "output_type": "stream",
     "text": [
      "2980459750320\n"
     ]
    }
   ],
   "source": [
    "print(id(c1 / c2))"
   ]
  },
  {
   "cell_type": "code",
   "execution_count": 32,
   "id": "dc985328",
   "metadata": {},
   "outputs": [
    {
     "data": {
      "text/plain": [
       "6.0"
      ]
     },
     "execution_count": 32,
     "metadata": {},
     "output_type": "execute_result"
    }
   ],
   "source": [
    "c1.real"
   ]
  },
  {
   "cell_type": "code",
   "execution_count": 34,
   "id": "b963e919",
   "metadata": {},
   "outputs": [
    {
     "data": {
      "text/plain": [
       "5.0"
      ]
     },
     "execution_count": 34,
     "metadata": {},
     "output_type": "execute_result"
    }
   ],
   "source": [
    "c1.imag"
   ]
  },
  {
   "cell_type": "code",
   "execution_count": 35,
   "id": "0d76f2d7",
   "metadata": {},
   "outputs": [],
   "source": [
    "# Conjugate ex: 6+5j=>6-5j"
   ]
  },
  {
   "cell_type": "code",
   "execution_count": 36,
   "id": "6a33c4d6",
   "metadata": {},
   "outputs": [
    {
     "data": {
      "text/plain": [
       "(6-5j)"
      ]
     },
     "execution_count": 36,
     "metadata": {},
     "output_type": "execute_result"
    }
   ],
   "source": [
    "c1.conjugate()"
   ]
  },
  {
   "cell_type": "code",
   "execution_count": 37,
   "id": "ab61ab7e",
   "metadata": {},
   "outputs": [
    {
     "data": {
      "text/plain": [
       "(4+3j)"
      ]
     },
     "execution_count": 37,
     "metadata": {},
     "output_type": "execute_result"
    }
   ],
   "source": [
    "c2.conjugate()"
   ]
  },
  {
   "cell_type": "code",
   "execution_count": 38,
   "id": "d4e6a4d8",
   "metadata": {},
   "outputs": [
    {
     "name": "stdout",
     "output_type": "stream",
     "text": [
      "Help on class complex in module builtins:\n",
      "\n",
      "class complex(object)\n",
      " |  complex(real=0, imag=0)\n",
      " |  \n",
      " |  Create a complex number from a real part and an optional imaginary part.\n",
      " |  \n",
      " |  This is equivalent to (real + imag*1j) where imag defaults to 0.\n",
      " |  \n",
      " |  Methods defined here:\n",
      " |  \n",
      " |  __abs__(self, /)\n",
      " |      abs(self)\n",
      " |  \n",
      " |  __add__(self, value, /)\n",
      " |      Return self+value.\n",
      " |  \n",
      " |  __bool__(self, /)\n",
      " |      True if self else False\n",
      " |  \n",
      " |  __divmod__(self, value, /)\n",
      " |      Return divmod(self, value).\n",
      " |  \n",
      " |  __eq__(self, value, /)\n",
      " |      Return self==value.\n",
      " |  \n",
      " |  __float__(self, /)\n",
      " |      float(self)\n",
      " |  \n",
      " |  __floordiv__(self, value, /)\n",
      " |      Return self//value.\n",
      " |  \n",
      " |  __format__(...)\n",
      " |      complex.__format__() -> str\n",
      " |      \n",
      " |      Convert to a string according to format_spec.\n",
      " |  \n",
      " |  __ge__(self, value, /)\n",
      " |      Return self>=value.\n",
      " |  \n",
      " |  __getattribute__(self, name, /)\n",
      " |      Return getattr(self, name).\n",
      " |  \n",
      " |  __getnewargs__(...)\n",
      " |  \n",
      " |  __gt__(self, value, /)\n",
      " |      Return self>value.\n",
      " |  \n",
      " |  __hash__(self, /)\n",
      " |      Return hash(self).\n",
      " |  \n",
      " |  __int__(self, /)\n",
      " |      int(self)\n",
      " |  \n",
      " |  __le__(self, value, /)\n",
      " |      Return self<=value.\n",
      " |  \n",
      " |  __lt__(self, value, /)\n",
      " |      Return self<value.\n",
      " |  \n",
      " |  __mod__(self, value, /)\n",
      " |      Return self%value.\n",
      " |  \n",
      " |  __mul__(self, value, /)\n",
      " |      Return self*value.\n",
      " |  \n",
      " |  __ne__(self, value, /)\n",
      " |      Return self!=value.\n",
      " |  \n",
      " |  __neg__(self, /)\n",
      " |      -self\n",
      " |  \n",
      " |  __pos__(self, /)\n",
      " |      +self\n",
      " |  \n",
      " |  __pow__(self, value, mod=None, /)\n",
      " |      Return pow(self, value, mod).\n",
      " |  \n",
      " |  __radd__(self, value, /)\n",
      " |      Return value+self.\n",
      " |  \n",
      " |  __rdivmod__(self, value, /)\n",
      " |      Return divmod(value, self).\n",
      " |  \n",
      " |  __repr__(self, /)\n",
      " |      Return repr(self).\n",
      " |  \n",
      " |  __rfloordiv__(self, value, /)\n",
      " |      Return value//self.\n",
      " |  \n",
      " |  __rmod__(self, value, /)\n",
      " |      Return value%self.\n",
      " |  \n",
      " |  __rmul__(self, value, /)\n",
      " |      Return value*self.\n",
      " |  \n",
      " |  __rpow__(self, value, mod=None, /)\n",
      " |      Return pow(value, self, mod).\n",
      " |  \n",
      " |  __rsub__(self, value, /)\n",
      " |      Return value-self.\n",
      " |  \n",
      " |  __rtruediv__(self, value, /)\n",
      " |      Return value/self.\n",
      " |  \n",
      " |  __sub__(self, value, /)\n",
      " |      Return self-value.\n",
      " |  \n",
      " |  __truediv__(self, value, /)\n",
      " |      Return self/value.\n",
      " |  \n",
      " |  conjugate(...)\n",
      " |      complex.conjugate() -> complex\n",
      " |      \n",
      " |      Return the complex conjugate of its argument. (3-4j).conjugate() == 3+4j.\n",
      " |  \n",
      " |  ----------------------------------------------------------------------\n",
      " |  Static methods defined here:\n",
      " |  \n",
      " |  __new__(*args, **kwargs) from builtins.type\n",
      " |      Create and return a new object.  See help(type) for accurate signature.\n",
      " |  \n",
      " |  ----------------------------------------------------------------------\n",
      " |  Data descriptors defined here:\n",
      " |  \n",
      " |  imag\n",
      " |      the imaginary part of a complex number\n",
      " |  \n",
      " |  real\n",
      " |      the real part of a complex number\n",
      "\n"
     ]
    }
   ],
   "source": [
    "help(complex)"
   ]
  },
  {
   "cell_type": "code",
   "execution_count": 39,
   "id": "e3d3a3b8",
   "metadata": {},
   "outputs": [
    {
     "name": "stdout",
     "output_type": "stream",
     "text": [
      "5.0\n"
     ]
    }
   ],
   "source": [
    "i = c1.imag\n",
    "print(i)"
   ]
  },
  {
   "cell_type": "code",
   "execution_count": 40,
   "id": "0d30e469",
   "metadata": {},
   "outputs": [
    {
     "name": "stdout",
     "output_type": "stream",
     "text": [
      "6.0\n"
     ]
    }
   ],
   "source": [
    "r = c1.real\n",
    "print(r)"
   ]
  },
  {
   "cell_type": "code",
   "execution_count": 41,
   "id": "3e0d88ad",
   "metadata": {},
   "outputs": [
    {
     "name": "stdout",
     "output_type": "stream",
     "text": [
      "(6-5j)\n"
     ]
    }
   ],
   "source": [
    "c1_conj = c1.conjugate()\n",
    "print(c1_conj)"
   ]
  },
  {
   "cell_type": "code",
   "execution_count": 42,
   "id": "ddec16ed",
   "metadata": {},
   "outputs": [],
   "source": [
    "# Booleans\n",
    "# True\n",
    "# False"
   ]
  },
  {
   "cell_type": "code",
   "execution_count": 43,
   "id": "80b1b28c",
   "metadata": {},
   "outputs": [
    {
     "name": "stdout",
     "output_type": "stream",
     "text": [
      "True\n",
      "<class 'bool'>\n"
     ]
    }
   ],
   "source": [
    "val1 = True\n",
    "print(val1)\n",
    "print(type(val1))"
   ]
  },
  {
   "cell_type": "code",
   "execution_count": 44,
   "id": "3606d543",
   "metadata": {},
   "outputs": [
    {
     "name": "stdout",
     "output_type": "stream",
     "text": [
      "False\n",
      "<class 'bool'>\n"
     ]
    }
   ],
   "source": [
    "val2 = False\n",
    "print(val2)\n",
    "print(type(val2))"
   ]
  },
  {
   "cell_type": "code",
   "execution_count": 45,
   "id": "99857396",
   "metadata": {},
   "outputs": [],
   "source": [
    "# True is considered as 1 when you do an arithmetic operation on it\n",
    "# False is considered as 0 when you do an arithmetic operation on it"
   ]
  },
  {
   "cell_type": "code",
   "execution_count": 46,
   "id": "346a6cde",
   "metadata": {},
   "outputs": [
    {
     "data": {
      "text/plain": [
       "True"
      ]
     },
     "execution_count": 46,
     "metadata": {},
     "output_type": "execute_result"
    }
   ],
   "source": [
    "val1"
   ]
  },
  {
   "cell_type": "code",
   "execution_count": 47,
   "id": "63a902b7",
   "metadata": {},
   "outputs": [
    {
     "data": {
      "text/plain": [
       "False"
      ]
     },
     "execution_count": 47,
     "metadata": {},
     "output_type": "execute_result"
    }
   ],
   "source": [
    "val2"
   ]
  },
  {
   "cell_type": "code",
   "execution_count": 48,
   "id": "aa147089",
   "metadata": {},
   "outputs": [
    {
     "data": {
      "text/plain": [
       "1"
      ]
     },
     "execution_count": 48,
     "metadata": {},
     "output_type": "execute_result"
    }
   ],
   "source": [
    "val1 + val2"
   ]
  },
  {
   "cell_type": "code",
   "execution_count": 49,
   "id": "4824715d",
   "metadata": {},
   "outputs": [
    {
     "data": {
      "text/plain": [
       "2"
      ]
     },
     "execution_count": 49,
     "metadata": {},
     "output_type": "execute_result"
    }
   ],
   "source": [
    "val1 + val1"
   ]
  },
  {
   "cell_type": "code",
   "execution_count": 50,
   "id": "48f74cee",
   "metadata": {},
   "outputs": [],
   "source": [
    "# Special type\n",
    "# None"
   ]
  },
  {
   "cell_type": "code",
   "execution_count": 51,
   "id": "8d613a78",
   "metadata": {},
   "outputs": [
    {
     "name": "stdout",
     "output_type": "stream",
     "text": [
      "None\n",
      "<class 'NoneType'>\n"
     ]
    }
   ],
   "source": [
    "value = None\n",
    "print(value)\n",
    "print(type(value))"
   ]
  },
  {
   "cell_type": "code",
   "execution_count": 52,
   "id": "c841e74f",
   "metadata": {},
   "outputs": [
    {
     "name": "stdout",
     "output_type": "stream",
     "text": [
      "140726893067480\n"
     ]
    }
   ],
   "source": [
    "print(id(value))"
   ]
  },
  {
   "cell_type": "code",
   "execution_count": null,
   "id": "cbcacb8b",
   "metadata": {},
   "outputs": [],
   "source": []
  },
  {
   "cell_type": "code",
   "execution_count": 53,
   "id": "78e37850",
   "metadata": {},
   "outputs": [],
   "source": [
    "# Strings\n",
    "# Sequence of characters enclosed within quotes"
   ]
  },
  {
   "cell_type": "code",
   "execution_count": 54,
   "id": "87571411",
   "metadata": {},
   "outputs": [
    {
     "name": "stdout",
     "output_type": "stream",
     "text": [
      " Hello World\n",
      "<class 'str'>\n"
     ]
    }
   ],
   "source": [
    "s1 = \" Hello World\"\n",
    "print(s1)\n",
    "print(type(s1))"
   ]
  },
  {
   "cell_type": "code",
   "execution_count": 55,
   "id": "d662b6f0",
   "metadata": {},
   "outputs": [
    {
     "data": {
      "text/plain": [
       "' Hello World Hello World'"
      ]
     },
     "execution_count": 55,
     "metadata": {},
     "output_type": "execute_result"
    }
   ],
   "source": [
    "s1 * 2"
   ]
  },
  {
   "cell_type": "code",
   "execution_count": 56,
   "id": "720f0bb6",
   "metadata": {},
   "outputs": [],
   "source": [
    "#  * is a Repeatation operator in case of strings"
   ]
  },
  {
   "cell_type": "code",
   "execution_count": 58,
   "id": "9cf52203",
   "metadata": {},
   "outputs": [
    {
     "data": {
      "text/plain": [
       "'helloBye'"
      ]
     },
     "execution_count": 58,
     "metadata": {},
     "output_type": "execute_result"
    }
   ],
   "source": [
    "'hello' + 'Bye'"
   ]
  },
  {
   "cell_type": "code",
   "execution_count": 59,
   "id": "3aba6d73",
   "metadata": {},
   "outputs": [],
   "source": [
    "# + is a concatination operator when adding strings"
   ]
  },
  {
   "cell_type": "code",
   "execution_count": 62,
   "id": "030e7f25",
   "metadata": {},
   "outputs": [
    {
     "name": "stdout",
     "output_type": "stream",
     "text": [
      "Bye\n"
     ]
    }
   ],
   "source": [
    "s2 = \"Bye\"\n",
    "print(s2)\n"
   ]
  },
  {
   "cell_type": "code",
   "execution_count": 63,
   "id": "627a8412",
   "metadata": {},
   "outputs": [
    {
     "name": "stdout",
     "output_type": "stream",
     "text": [
      " Hello WorldBye\n"
     ]
    }
   ],
   "source": [
    "print(s1+s2)"
   ]
  },
  {
   "cell_type": "code",
   "execution_count": 67,
   "id": "0b878e66",
   "metadata": {},
   "outputs": [
    {
     "name": "stdout",
     "output_type": "stream",
     "text": [
      " Hello WorldBye\n"
     ]
    }
   ],
   "source": [
    "print(s1 + s2)"
   ]
  },
  {
   "cell_type": "code",
   "execution_count": 68,
   "id": "faf4f8f2",
   "metadata": {},
   "outputs": [],
   "source": [
    "# Indexing\n",
    "# index - position of the character of the string\n",
    "#index/position starts from 0\n",
    "#hello\n",
    "#01234"
   ]
  },
  {
   "cell_type": "code",
   "execution_count": 69,
   "id": "a1044cae",
   "metadata": {},
   "outputs": [
    {
     "name": "stdout",
     "output_type": "stream",
     "text": [
      "Hello World\n"
     ]
    },
    {
     "data": {
      "text/plain": [
       "11"
      ]
     },
     "execution_count": 69,
     "metadata": {},
     "output_type": "execute_result"
    }
   ],
   "source": [
    "s1 = \"Hello World\"\n",
    "print(s1)\n",
    "len(s1)\n"
   ]
  },
  {
   "cell_type": "code",
   "execution_count": 70,
   "id": "74f94252",
   "metadata": {},
   "outputs": [],
   "source": [
    "#[] - subscript operator - use for indexing"
   ]
  },
  {
   "cell_type": "code",
   "execution_count": 71,
   "id": "26244c8d",
   "metadata": {},
   "outputs": [
    {
     "data": {
      "text/plain": [
       "'W'"
      ]
     },
     "execution_count": 71,
     "metadata": {},
     "output_type": "execute_result"
    }
   ],
   "source": [
    "s1[6]"
   ]
  },
  {
   "cell_type": "code",
   "execution_count": 72,
   "id": "420f3f8e",
   "metadata": {},
   "outputs": [
    {
     "data": {
      "text/plain": [
       "' '"
      ]
     },
     "execution_count": 72,
     "metadata": {},
     "output_type": "execute_result"
    }
   ],
   "source": [
    "s1[5]"
   ]
  },
  {
   "cell_type": "code",
   "execution_count": 73,
   "id": "85d589ea",
   "metadata": {},
   "outputs": [
    {
     "data": {
      "text/plain": [
       "'d'"
      ]
     },
     "execution_count": 73,
     "metadata": {},
     "output_type": "execute_result"
    }
   ],
   "source": [
    "s1[10]"
   ]
  },
  {
   "cell_type": "code",
   "execution_count": 74,
   "id": "f2ab161d",
   "metadata": {},
   "outputs": [
    {
     "data": {
      "text/plain": [
       "'H'"
      ]
     },
     "execution_count": 74,
     "metadata": {},
     "output_type": "execute_result"
    }
   ],
   "source": [
    "s1[0]"
   ]
  },
  {
   "cell_type": "code",
   "execution_count": 75,
   "id": "3164fe2b",
   "metadata": {},
   "outputs": [
    {
     "data": {
      "text/plain": [
       "'e'"
      ]
     },
     "execution_count": 75,
     "metadata": {},
     "output_type": "execute_result"
    }
   ],
   "source": [
    "s1[1]"
   ]
  },
  {
   "cell_type": "code",
   "execution_count": 76,
   "id": "40f83d92",
   "metadata": {},
   "outputs": [],
   "source": [
    "s2 = \"We are learning Python\""
   ]
  },
  {
   "cell_type": "code",
   "execution_count": 77,
   "id": "f545d58e",
   "metadata": {},
   "outputs": [
    {
     "data": {
      "text/plain": [
       "22"
      ]
     },
     "execution_count": 77,
     "metadata": {},
     "output_type": "execute_result"
    }
   ],
   "source": [
    "len(s2)"
   ]
  },
  {
   "cell_type": "code",
   "execution_count": 78,
   "id": "c9a352d7",
   "metadata": {},
   "outputs": [],
   "source": [
    "# the first index is 0\n",
    "#the last index is len(string) - 1"
   ]
  },
  {
   "cell_type": "code",
   "execution_count": 79,
   "id": "fc0d6d36",
   "metadata": {},
   "outputs": [
    {
     "data": {
      "text/plain": [
       "'n'"
      ]
     },
     "execution_count": 79,
     "metadata": {},
     "output_type": "execute_result"
    }
   ],
   "source": [
    "s2[len(s2) - 1]"
   ]
  },
  {
   "cell_type": "code",
   "execution_count": 80,
   "id": "a190a393",
   "metadata": {},
   "outputs": [
    {
     "data": {
      "text/plain": [
       "'l'"
      ]
     },
     "execution_count": 80,
     "metadata": {},
     "output_type": "execute_result"
    }
   ],
   "source": [
    "s1[len(s1) - 2]"
   ]
  },
  {
   "cell_type": "code",
   "execution_count": 81,
   "id": "d416cade",
   "metadata": {},
   "outputs": [
    {
     "ename": "IndexError",
     "evalue": "string index out of range",
     "output_type": "error",
     "traceback": [
      "\u001b[1;31m---------------------------------------------------------------------------\u001b[0m",
      "\u001b[1;31mIndexError\u001b[0m                                Traceback (most recent call last)",
      "\u001b[1;32m~\\AppData\\Local\\Temp\\ipykernel_15800\\2837757298.py\u001b[0m in \u001b[0;36m<module>\u001b[1;34m\u001b[0m\n\u001b[1;32m----> 1\u001b[1;33m \u001b[0ms1\u001b[0m\u001b[1;33m[\u001b[0m\u001b[1;36m15\u001b[0m\u001b[1;33m]\u001b[0m\u001b[1;33m\u001b[0m\u001b[1;33m\u001b[0m\u001b[0m\n\u001b[0m",
      "\u001b[1;31mIndexError\u001b[0m: string index out of range"
     ]
    }
   ],
   "source": [
    "s1[15]"
   ]
  },
  {
   "cell_type": "code",
   "execution_count": 82,
   "id": "5307857b",
   "metadata": {},
   "outputs": [],
   "source": [
    "# Negative indexing\n",
    "#starts from -1 (last characteer)\n",
    "#Goes till -len(string) (first character)"
   ]
  },
  {
   "cell_type": "code",
   "execution_count": 83,
   "id": "9cbc89d3",
   "metadata": {},
   "outputs": [
    {
     "data": {
      "text/plain": [
       "'Hello World'"
      ]
     },
     "execution_count": 83,
     "metadata": {},
     "output_type": "execute_result"
    }
   ],
   "source": [
    "s1"
   ]
  },
  {
   "cell_type": "code",
   "execution_count": 84,
   "id": "2ca1682c",
   "metadata": {},
   "outputs": [
    {
     "data": {
      "text/plain": [
       "'d'"
      ]
     },
     "execution_count": 84,
     "metadata": {},
     "output_type": "execute_result"
    }
   ],
   "source": [
    "s1[-1]"
   ]
  },
  {
   "cell_type": "code",
   "execution_count": 85,
   "id": "ea92aeb6",
   "metadata": {},
   "outputs": [
    {
     "data": {
      "text/plain": [
       "'l'"
      ]
     },
     "execution_count": 85,
     "metadata": {},
     "output_type": "execute_result"
    }
   ],
   "source": [
    "s1[-2]"
   ]
  },
  {
   "cell_type": "code",
   "execution_count": 86,
   "id": "30958018",
   "metadata": {},
   "outputs": [
    {
     "data": {
      "text/plain": [
       "'r'"
      ]
     },
     "execution_count": 86,
     "metadata": {},
     "output_type": "execute_result"
    }
   ],
   "source": [
    "s1[-3]"
   ]
  },
  {
   "cell_type": "code",
   "execution_count": 87,
   "id": "c1d913bd",
   "metadata": {},
   "outputs": [],
   "source": [
    "#string[-len(string)] => First character"
   ]
  },
  {
   "cell_type": "code",
   "execution_count": null,
   "id": "88964e95",
   "metadata": {},
   "outputs": [],
   "source": []
  },
  {
   "cell_type": "code",
   "execution_count": 88,
   "id": "5b46fd86",
   "metadata": {},
   "outputs": [],
   "source": [
    "# Slicing\n",
    "# fetches a substring from a string"
   ]
  },
  {
   "cell_type": "code",
   "execution_count": 89,
   "id": "c3cd5055",
   "metadata": {},
   "outputs": [],
   "source": [
    "#string[start:stop:step]\n",
    "#start - starting index from where slicing should start\n",
    "#stop - ending indexing where the slicing ends/stops(stop is excluuded from the slice)\n",
    "#step - increment/decrement between the start and the stop"
   ]
  },
  {
   "cell_type": "code",
   "execution_count": 90,
   "id": "88d841b2",
   "metadata": {},
   "outputs": [
    {
     "data": {
      "text/plain": [
       "'Hello World'"
      ]
     },
     "execution_count": 90,
     "metadata": {},
     "output_type": "execute_result"
    }
   ],
   "source": [
    "s1"
   ]
  },
  {
   "cell_type": "code",
   "execution_count": 91,
   "id": "219869f3",
   "metadata": {},
   "outputs": [
    {
     "data": {
      "text/plain": [
       "'ello W'"
      ]
     },
     "execution_count": 91,
     "metadata": {},
     "output_type": "execute_result"
    }
   ],
   "source": [
    "s1[1:7:1]"
   ]
  },
  {
   "cell_type": "code",
   "execution_count": 92,
   "id": "05802f91",
   "metadata": {},
   "outputs": [
    {
     "data": {
      "text/plain": [
       "'el o'"
      ]
     },
     "execution_count": 92,
     "metadata": {},
     "output_type": "execute_result"
    }
   ],
   "source": [
    "s1[1:9:2]"
   ]
  },
  {
   "cell_type": "code",
   "execution_count": 93,
   "id": "063808a7",
   "metadata": {},
   "outputs": [
    {
     "name": "stdout",
     "output_type": "stream",
     "text": [
      "Help on method raw_input in module ipykernel.kernelbase:\n",
      "\n",
      "raw_input(prompt='') method of ipykernel.ipkernel.IPythonKernel instance\n",
      "    Forward raw_input to frontends\n",
      "    \n",
      "    Raises\n",
      "    ------\n",
      "    StdinNotImplementedError if active frontend doesn't support stdin.\n",
      "\n"
     ]
    }
   ],
   "source": [
    "help(input)"
   ]
  },
  {
   "cell_type": "code",
   "execution_count": 97,
   "id": "2ef1f6f6",
   "metadata": {},
   "outputs": [
    {
     "name": "stdout",
     "output_type": "stream",
     "text": [
      "Enter the percentage:30\n",
      "Fail\n"
     ]
    }
   ],
   "source": [
    "var = int(input('Enter the percentage:'))\n",
    "if(var >= 60):\n",
    "     print(\"First Division\")\n",
    "elif(var>= 45 and var < 60 ):\n",
    "        print(\"Second Division\")\n",
    "elif(var>=33 and var<45):\n",
    "        print(\"Third Division\")\n",
    "else:\n",
    "       print(\"Fail\")\n",
    "    "
   ]
  },
  {
   "cell_type": "code",
   "execution_count": 100,
   "id": "016524c8",
   "metadata": {},
   "outputs": [
    {
     "name": "stdout",
     "output_type": "stream",
     "text": [
      "Enter a number:5\n",
      "Positive\n"
     ]
    }
   ],
   "source": [
    "a = int(input('Enter a number:'))\n",
    "if(a < 0):\n",
    "    print(\"Negative\")\n",
    "elif(a == 0):\n",
    "    print(\"zero\")\n",
    "else:\n",
    "    print(\"Positive\")"
   ]
  },
  {
   "cell_type": "code",
   "execution_count": 101,
   "id": "9f8ef538",
   "metadata": {},
   "outputs": [
    {
     "data": {
      "text/plain": [
       "''"
      ]
     },
     "execution_count": 101,
     "metadata": {},
     "output_type": "execute_result"
    }
   ],
   "source": [
    "s1[1:8:-2]"
   ]
  },
  {
   "cell_type": "code",
   "execution_count": 102,
   "id": "c3db99c1",
   "metadata": {},
   "outputs": [
    {
     "data": {
      "text/plain": [
       "'loWr'"
      ]
     },
     "execution_count": 102,
     "metadata": {},
     "output_type": "execute_result"
    }
   ],
   "source": [
    "s1[2:10:2]"
   ]
  },
  {
   "cell_type": "code",
   "execution_count": 103,
   "id": "f0647456",
   "metadata": {},
   "outputs": [
    {
     "data": {
      "text/plain": [
       "'HlWl'"
      ]
     },
     "execution_count": 103,
     "metadata": {},
     "output_type": "execute_result"
    }
   ],
   "source": [
    "s1[0:20:3]"
   ]
  },
  {
   "cell_type": "code",
   "execution_count": 104,
   "id": "1ae01509",
   "metadata": {},
   "outputs": [
    {
     "data": {
      "text/plain": [
       "'lo Wor'"
      ]
     },
     "execution_count": 104,
     "metadata": {},
     "output_type": "execute_result"
    }
   ],
   "source": [
    "s1[-8:-2:1]"
   ]
  },
  {
   "cell_type": "code",
   "execution_count": 105,
   "id": "38e75281",
   "metadata": {},
   "outputs": [
    {
     "data": {
      "text/plain": [
       "'rWol'"
      ]
     },
     "execution_count": 105,
     "metadata": {},
     "output_type": "execute_result"
    }
   ],
   "source": [
    "s1[8:1:-2]"
   ]
  },
  {
   "cell_type": "code",
   "execution_count": 106,
   "id": "6686f0a0",
   "metadata": {},
   "outputs": [
    {
     "data": {
      "text/plain": [
       "'l r'"
      ]
     },
     "execution_count": 106,
     "metadata": {},
     "output_type": "execute_result"
    }
   ],
   "source": [
    "s1[2:-1:3]"
   ]
  },
  {
   "cell_type": "code",
   "execution_count": 107,
   "id": "0e7aec42",
   "metadata": {},
   "outputs": [
    {
     "data": {
      "text/plain": [
       "'loWrd'"
      ]
     },
     "execution_count": 107,
     "metadata": {},
     "output_type": "execute_result"
    }
   ],
   "source": [
    "s1[2::2]"
   ]
  },
  {
   "cell_type": "code",
   "execution_count": 109,
   "id": "357b7c4b",
   "metadata": {},
   "outputs": [
    {
     "data": {
      "text/plain": [
       "'olH'"
      ]
     },
     "execution_count": 109,
     "metadata": {},
     "output_type": "execute_result"
    }
   ],
   "source": [
    "s1[4::-2]"
   ]
  },
  {
   "cell_type": "code",
   "execution_count": 110,
   "id": "da470c5a",
   "metadata": {},
   "outputs": [
    {
     "data": {
      "text/plain": [
       "'Hello '"
      ]
     },
     "execution_count": 110,
     "metadata": {},
     "output_type": "execute_result"
    }
   ],
   "source": [
    "s1[:6:1]"
   ]
  },
  {
   "cell_type": "code",
   "execution_count": 111,
   "id": "fac1ee22",
   "metadata": {},
   "outputs": [
    {
     "data": {
      "text/plain": [
       "'dlro'"
      ]
     },
     "execution_count": 111,
     "metadata": {},
     "output_type": "execute_result"
    }
   ],
   "source": [
    "s1[:6:-1]"
   ]
  },
  {
   "cell_type": "code",
   "execution_count": 112,
   "id": "1029b5c1",
   "metadata": {},
   "outputs": [
    {
     "data": {
      "text/plain": [
       "'HlWl'"
      ]
     },
     "execution_count": 112,
     "metadata": {},
     "output_type": "execute_result"
    }
   ],
   "source": [
    "s1[::3]"
   ]
  },
  {
   "cell_type": "code",
   "execution_count": 113,
   "id": "2031022a",
   "metadata": {},
   "outputs": [
    {
     "data": {
      "text/plain": [
       "'drWolH'"
      ]
     },
     "execution_count": 113,
     "metadata": {},
     "output_type": "execute_result"
    }
   ],
   "source": [
    "s1[::-2]"
   ]
  },
  {
   "cell_type": "code",
   "execution_count": 115,
   "id": "19725a06",
   "metadata": {},
   "outputs": [
    {
     "data": {
      "text/plain": [
       "' Wo'"
      ]
     },
     "execution_count": 115,
     "metadata": {},
     "output_type": "execute_result"
    }
   ],
   "source": [
    "s1[5:8:1]"
   ]
  },
  {
   "cell_type": "code",
   "execution_count": 116,
   "id": "a48c833b",
   "metadata": {},
   "outputs": [
    {
     "data": {
      "text/plain": [
       "'o Wo'"
      ]
     },
     "execution_count": 116,
     "metadata": {},
     "output_type": "execute_result"
    }
   ],
   "source": [
    "s1[4:8:None]"
   ]
  },
  {
   "cell_type": "code",
   "execution_count": 117,
   "id": "94d89a96",
   "metadata": {},
   "outputs": [
    {
     "data": {
      "text/plain": [
       "'o Wo'"
      ]
     },
     "execution_count": 117,
     "metadata": {},
     "output_type": "execute_result"
    }
   ],
   "source": [
    "s1[4:8:]"
   ]
  },
  {
   "cell_type": "code",
   "execution_count": 118,
   "id": "03bbeec2",
   "metadata": {},
   "outputs": [],
   "source": [
    "#Step  = 1 (by default always)"
   ]
  },
  {
   "cell_type": "code",
   "execution_count": 119,
   "id": "db3762fe",
   "metadata": {},
   "outputs": [
    {
     "data": {
      "text/plain": [
       "''"
      ]
     },
     "execution_count": 119,
     "metadata": {},
     "output_type": "execute_result"
    }
   ],
   "source": [
    "s1[9:2]"
   ]
  },
  {
   "cell_type": "code",
   "execution_count": 120,
   "id": "0cfb78b1",
   "metadata": {},
   "outputs": [
    {
     "data": {
      "text/plain": [
       "'o Wo'"
      ]
     },
     "execution_count": 120,
     "metadata": {},
     "output_type": "execute_result"
    }
   ],
   "source": [
    "s1[4:8]"
   ]
  },
  {
   "cell_type": "code",
   "execution_count": 121,
   "id": "409dd91f",
   "metadata": {},
   "outputs": [
    {
     "data": {
      "text/plain": [
       "'Hello World'"
      ]
     },
     "execution_count": 121,
     "metadata": {},
     "output_type": "execute_result"
    }
   ],
   "source": [
    "s1[::]"
   ]
  },
  {
   "cell_type": "code",
   "execution_count": 122,
   "id": "8e1a85a6",
   "metadata": {},
   "outputs": [
    {
     "data": {
      "text/plain": [
       "'drWolH'"
      ]
     },
     "execution_count": 122,
     "metadata": {},
     "output_type": "execute_result"
    }
   ],
   "source": [
    "s1[::-2]"
   ]
  },
  {
   "cell_type": "code",
   "execution_count": 123,
   "id": "40451741",
   "metadata": {},
   "outputs": [
    {
     "data": {
      "text/plain": [
       "'dlroW olleH'"
      ]
     },
     "execution_count": 123,
     "metadata": {},
     "output_type": "execute_result"
    }
   ],
   "source": [
    "s1[::-1]"
   ]
  },
  {
   "cell_type": "code",
   "execution_count": 124,
   "id": "cb86059a",
   "metadata": {},
   "outputs": [],
   "source": [
    "# Type Casting"
   ]
  },
  {
   "cell_type": "code",
   "execution_count": 125,
   "id": "25fd2215",
   "metadata": {},
   "outputs": [],
   "source": [
    "# Converting the type of data from one to another"
   ]
  },
  {
   "cell_type": "code",
   "execution_count": 126,
   "id": "00e2ca54",
   "metadata": {},
   "outputs": [
    {
     "data": {
      "text/plain": [
       "int"
      ]
     },
     "execution_count": 126,
     "metadata": {},
     "output_type": "execute_result"
    }
   ],
   "source": [
    "a = 10\n",
    "type(a)"
   ]
  },
  {
   "cell_type": "code",
   "execution_count": 127,
   "id": "ba43a1ee",
   "metadata": {},
   "outputs": [
    {
     "data": {
      "text/plain": [
       "10.0"
      ]
     },
     "execution_count": 127,
     "metadata": {},
     "output_type": "execute_result"
    }
   ],
   "source": [
    "float(a)"
   ]
  },
  {
   "cell_type": "code",
   "execution_count": 128,
   "id": "3602865a",
   "metadata": {},
   "outputs": [],
   "source": [
    "b= float(a)"
   ]
  },
  {
   "cell_type": "code",
   "execution_count": 129,
   "id": "21902ae7",
   "metadata": {},
   "outputs": [
    {
     "data": {
      "text/plain": [
       "10.0"
      ]
     },
     "execution_count": 129,
     "metadata": {},
     "output_type": "execute_result"
    }
   ],
   "source": [
    "b"
   ]
  },
  {
   "cell_type": "code",
   "execution_count": 130,
   "id": "dbd5b37f",
   "metadata": {},
   "outputs": [
    {
     "data": {
      "text/plain": [
       "float"
      ]
     },
     "execution_count": 130,
     "metadata": {},
     "output_type": "execute_result"
    }
   ],
   "source": [
    "type(b)"
   ]
  },
  {
   "cell_type": "code",
   "execution_count": 131,
   "id": "4ecf3f22",
   "metadata": {},
   "outputs": [
    {
     "data": {
      "text/plain": [
       "float"
      ]
     },
     "execution_count": 131,
     "metadata": {},
     "output_type": "execute_result"
    }
   ],
   "source": [
    "c = 100.765\n",
    "type(c)"
   ]
  },
  {
   "cell_type": "code",
   "execution_count": 132,
   "id": "3fea53a3",
   "metadata": {},
   "outputs": [
    {
     "data": {
      "text/plain": [
       "100"
      ]
     },
     "execution_count": 132,
     "metadata": {},
     "output_type": "execute_result"
    }
   ],
   "source": [
    "int(c)"
   ]
  },
  {
   "cell_type": "code",
   "execution_count": 133,
   "id": "ccaa0f2c",
   "metadata": {},
   "outputs": [
    {
     "data": {
      "text/plain": [
       "100.765"
      ]
     },
     "execution_count": 133,
     "metadata": {},
     "output_type": "execute_result"
    }
   ],
   "source": [
    "c"
   ]
  },
  {
   "cell_type": "code",
   "execution_count": 134,
   "id": "13c00abb",
   "metadata": {},
   "outputs": [
    {
     "ename": "ValueError",
     "evalue": "invalid literal for int() with base 10: 'hello'",
     "output_type": "error",
     "traceback": [
      "\u001b[1;31m---------------------------------------------------------------------------\u001b[0m",
      "\u001b[1;31mValueError\u001b[0m                                Traceback (most recent call last)",
      "\u001b[1;32m~\\AppData\\Local\\Temp\\ipykernel_15800\\1136785238.py\u001b[0m in \u001b[0;36m<module>\u001b[1;34m\u001b[0m\n\u001b[1;32m----> 1\u001b[1;33m \u001b[0mint\u001b[0m\u001b[1;33m(\u001b[0m\u001b[1;34m'hello'\u001b[0m\u001b[1;33m)\u001b[0m\u001b[1;33m\u001b[0m\u001b[1;33m\u001b[0m\u001b[0m\n\u001b[0m",
      "\u001b[1;31mValueError\u001b[0m: invalid literal for int() with base 10: 'hello'"
     ]
    }
   ],
   "source": [
    "int('hello')"
   ]
  },
  {
   "cell_type": "code",
   "execution_count": 135,
   "id": "9350c4a9",
   "metadata": {},
   "outputs": [
    {
     "data": {
      "text/plain": [
       "100"
      ]
     },
     "execution_count": 135,
     "metadata": {},
     "output_type": "execute_result"
    }
   ],
   "source": [
    "int('100')"
   ]
  },
  {
   "cell_type": "code",
   "execution_count": 136,
   "id": "538e5016",
   "metadata": {},
   "outputs": [
    {
     "data": {
      "text/plain": [
       "100.0"
      ]
     },
     "execution_count": 136,
     "metadata": {},
     "output_type": "execute_result"
    }
   ],
   "source": [
    "float('100.0')"
   ]
  },
  {
   "cell_type": "code",
   "execution_count": 137,
   "id": "332a7bc6",
   "metadata": {},
   "outputs": [
    {
     "data": {
      "text/plain": [
       "100"
      ]
     },
     "execution_count": 137,
     "metadata": {},
     "output_type": "execute_result"
    }
   ],
   "source": [
    "int(' 100 ')"
   ]
  },
  {
   "cell_type": "code",
   "execution_count": 138,
   "id": "3f68fe2f",
   "metadata": {},
   "outputs": [
    {
     "data": {
      "text/plain": [
       "100.0"
      ]
     },
     "execution_count": 138,
     "metadata": {},
     "output_type": "execute_result"
    }
   ],
   "source": [
    "float(' 100.0 ')"
   ]
  },
  {
   "cell_type": "code",
   "execution_count": 139,
   "id": "d139888f",
   "metadata": {},
   "outputs": [
    {
     "data": {
      "text/plain": [
       "100.0"
      ]
     },
     "execution_count": 139,
     "metadata": {},
     "output_type": "execute_result"
    }
   ],
   "source": [
    "float('100')"
   ]
  },
  {
   "cell_type": "code",
   "execution_count": 140,
   "id": "6ae43c8e",
   "metadata": {},
   "outputs": [
    {
     "data": {
      "text/plain": [
       "100.0"
      ]
     },
     "execution_count": 140,
     "metadata": {},
     "output_type": "execute_result"
    }
   ],
   "source": [
    "float('  100.0  ')"
   ]
  },
  {
   "cell_type": "code",
   "execution_count": 141,
   "id": "596a7f42",
   "metadata": {},
   "outputs": [
    {
     "data": {
      "text/plain": [
       "100"
      ]
     },
     "execution_count": 141,
     "metadata": {},
     "output_type": "execute_result"
    }
   ],
   "source": [
    "int(float('100.6'))"
   ]
  },
  {
   "cell_type": "code",
   "execution_count": 142,
   "id": "d3884602",
   "metadata": {},
   "outputs": [
    {
     "ename": "TypeError",
     "evalue": "int() argument must be a string, a bytes-like object or a number, not 'NoneType'",
     "output_type": "error",
     "traceback": [
      "\u001b[1;31m---------------------------------------------------------------------------\u001b[0m",
      "\u001b[1;31mTypeError\u001b[0m                                 Traceback (most recent call last)",
      "\u001b[1;32m~\\AppData\\Local\\Temp\\ipykernel_15800\\3584682638.py\u001b[0m in \u001b[0;36m<module>\u001b[1;34m\u001b[0m\n\u001b[0;32m      1\u001b[0m \u001b[0mn\u001b[0m\u001b[1;33m=\u001b[0m \u001b[1;32mNone\u001b[0m\u001b[1;33m\u001b[0m\u001b[1;33m\u001b[0m\u001b[0m\n\u001b[1;32m----> 2\u001b[1;33m \u001b[0mint\u001b[0m\u001b[1;33m(\u001b[0m\u001b[0mn\u001b[0m\u001b[1;33m)\u001b[0m\u001b[1;33m\u001b[0m\u001b[1;33m\u001b[0m\u001b[0m\n\u001b[0m",
      "\u001b[1;31mTypeError\u001b[0m: int() argument must be a string, a bytes-like object or a number, not 'NoneType'"
     ]
    }
   ],
   "source": [
    "n= None\n",
    "int(n)"
   ]
  },
  {
   "cell_type": "code",
   "execution_count": 143,
   "id": "025c834b",
   "metadata": {},
   "outputs": [
    {
     "data": {
      "text/plain": [
       "'None'"
      ]
     },
     "execution_count": 143,
     "metadata": {},
     "output_type": "execute_result"
    }
   ],
   "source": [
    "str(None)"
   ]
  },
  {
   "cell_type": "code",
   "execution_count": 144,
   "id": "2609d636",
   "metadata": {},
   "outputs": [
    {
     "data": {
      "text/plain": [
       "'None'"
      ]
     },
     "execution_count": 144,
     "metadata": {},
     "output_type": "execute_result"
    }
   ],
   "source": [
    "str(n)"
   ]
  },
  {
   "cell_type": "code",
   "execution_count": 145,
   "id": "d88f2e5f",
   "metadata": {},
   "outputs": [
    {
     "data": {
      "text/plain": [
       "'1000'"
      ]
     },
     "execution_count": 145,
     "metadata": {},
     "output_type": "execute_result"
    }
   ],
   "source": [
    "str(1000)"
   ]
  },
  {
   "cell_type": "code",
   "execution_count": 146,
   "id": "8eb54bd8",
   "metadata": {},
   "outputs": [
    {
     "data": {
      "text/plain": [
       "'100.76'"
      ]
     },
     "execution_count": 146,
     "metadata": {},
     "output_type": "execute_result"
    }
   ],
   "source": [
    "str(100.76)"
   ]
  },
  {
   "cell_type": "code",
   "execution_count": 147,
   "id": "ea7df3de",
   "metadata": {},
   "outputs": [
    {
     "data": {
      "text/plain": [
       "'True'"
      ]
     },
     "execution_count": 147,
     "metadata": {},
     "output_type": "execute_result"
    }
   ],
   "source": [
    "str(True)"
   ]
  },
  {
   "cell_type": "code",
   "execution_count": 148,
   "id": "b6d193e9",
   "metadata": {},
   "outputs": [
    {
     "data": {
      "text/plain": [
       "'False'"
      ]
     },
     "execution_count": 148,
     "metadata": {},
     "output_type": "execute_result"
    }
   ],
   "source": [
    "str(False)"
   ]
  },
  {
   "cell_type": "code",
   "execution_count": 149,
   "id": "7bacfac2",
   "metadata": {},
   "outputs": [
    {
     "data": {
      "text/plain": [
       "1"
      ]
     },
     "execution_count": 149,
     "metadata": {},
     "output_type": "execute_result"
    }
   ],
   "source": [
    "int(True)"
   ]
  },
  {
   "cell_type": "code",
   "execution_count": 150,
   "id": "f9372693",
   "metadata": {},
   "outputs": [
    {
     "data": {
      "text/plain": [
       "0"
      ]
     },
     "execution_count": 150,
     "metadata": {},
     "output_type": "execute_result"
    }
   ],
   "source": [
    "int(False)"
   ]
  },
  {
   "cell_type": "code",
   "execution_count": 151,
   "id": "00a858f3",
   "metadata": {},
   "outputs": [
    {
     "data": {
      "text/plain": [
       "1.0"
      ]
     },
     "execution_count": 151,
     "metadata": {},
     "output_type": "execute_result"
    }
   ],
   "source": [
    "float(True)"
   ]
  },
  {
   "cell_type": "code",
   "execution_count": 152,
   "id": "f320f0fb",
   "metadata": {},
   "outputs": [
    {
     "data": {
      "text/plain": [
       "0.0"
      ]
     },
     "execution_count": 152,
     "metadata": {},
     "output_type": "execute_result"
    }
   ],
   "source": [
    "float(False)"
   ]
  },
  {
   "cell_type": "code",
   "execution_count": 153,
   "id": "07110748",
   "metadata": {},
   "outputs": [
    {
     "data": {
      "text/plain": [
       "2"
      ]
     },
     "execution_count": 153,
     "metadata": {},
     "output_type": "execute_result"
    }
   ],
   "source": [
    "True + True"
   ]
  },
  {
   "cell_type": "code",
   "execution_count": 154,
   "id": "22074b02",
   "metadata": {},
   "outputs": [
    {
     "data": {
      "text/plain": [
       "True"
      ]
     },
     "execution_count": 154,
     "metadata": {},
     "output_type": "execute_result"
    }
   ],
   "source": [
    "bool(1)"
   ]
  },
  {
   "cell_type": "code",
   "execution_count": 155,
   "id": "dea52227",
   "metadata": {},
   "outputs": [
    {
     "data": {
      "text/plain": [
       "False"
      ]
     },
     "execution_count": 155,
     "metadata": {},
     "output_type": "execute_result"
    }
   ],
   "source": [
    "bool(0)"
   ]
  },
  {
   "cell_type": "code",
   "execution_count": 156,
   "id": "eda68fdd",
   "metadata": {},
   "outputs": [
    {
     "data": {
      "text/plain": [
       "True"
      ]
     },
     "execution_count": 156,
     "metadata": {},
     "output_type": "execute_result"
    }
   ],
   "source": [
    "bool(100)"
   ]
  },
  {
   "cell_type": "code",
   "execution_count": 157,
   "id": "3b6d4aad",
   "metadata": {},
   "outputs": [
    {
     "data": {
      "text/plain": [
       "True"
      ]
     },
     "execution_count": 157,
     "metadata": {},
     "output_type": "execute_result"
    }
   ],
   "source": [
    "bool(123)"
   ]
  },
  {
   "cell_type": "code",
   "execution_count": 158,
   "id": "4cd9b436",
   "metadata": {},
   "outputs": [
    {
     "data": {
      "text/plain": [
       "True"
      ]
     },
     "execution_count": 158,
     "metadata": {},
     "output_type": "execute_result"
    }
   ],
   "source": [
    "bool(-23)"
   ]
  },
  {
   "cell_type": "code",
   "execution_count": 159,
   "id": "bc076758",
   "metadata": {},
   "outputs": [],
   "source": [
    "a = bool(20)"
   ]
  },
  {
   "cell_type": "code",
   "execution_count": 160,
   "id": "6dc68fab",
   "metadata": {},
   "outputs": [
    {
     "data": {
      "text/plain": [
       "140726893017192"
      ]
     },
     "execution_count": 160,
     "metadata": {},
     "output_type": "execute_result"
    }
   ],
   "source": [
    "b = bool(30)\n",
    "id(a)\n"
   ]
  },
  {
   "cell_type": "code",
   "execution_count": 161,
   "id": "8f8c976f",
   "metadata": {},
   "outputs": [
    {
     "data": {
      "text/plain": [
       "140726893017192"
      ]
     },
     "execution_count": 161,
     "metadata": {},
     "output_type": "execute_result"
    }
   ],
   "source": [
    "id(b)"
   ]
  },
  {
   "cell_type": "code",
   "execution_count": 162,
   "id": "a3634640",
   "metadata": {},
   "outputs": [
    {
     "data": {
      "text/plain": [
       "True"
      ]
     },
     "execution_count": 162,
     "metadata": {},
     "output_type": "execute_result"
    }
   ],
   "source": [
    "bool('hi')"
   ]
  },
  {
   "cell_type": "code",
   "execution_count": 163,
   "id": "7b2fc275",
   "metadata": {},
   "outputs": [
    {
     "data": {
      "text/plain": [
       "False"
      ]
     },
     "execution_count": 163,
     "metadata": {},
     "output_type": "execute_result"
    }
   ],
   "source": [
    "bool('')"
   ]
  },
  {
   "cell_type": "code",
   "execution_count": 164,
   "id": "78ed05a0",
   "metadata": {},
   "outputs": [
    {
     "data": {
      "text/plain": [
       "True"
      ]
     },
     "execution_count": 164,
     "metadata": {},
     "output_type": "execute_result"
    }
   ],
   "source": [
    "bool(' ')"
   ]
  },
  {
   "cell_type": "code",
   "execution_count": 165,
   "id": "8cc99c4a",
   "metadata": {},
   "outputs": [
    {
     "data": {
      "text/plain": [
       "False"
      ]
     },
     "execution_count": 165,
     "metadata": {},
     "output_type": "execute_result"
    }
   ],
   "source": [
    "bool(None)"
   ]
  },
  {
   "cell_type": "code",
   "execution_count": 166,
   "id": "8dd3a551",
   "metadata": {},
   "outputs": [
    {
     "data": {
      "text/plain": [
       "True"
      ]
     },
     "execution_count": 166,
     "metadata": {},
     "output_type": "execute_result"
    }
   ],
   "source": [
    "bool(not None)"
   ]
  },
  {
   "cell_type": "code",
   "execution_count": 167,
   "id": "1d371796",
   "metadata": {},
   "outputs": [
    {
     "data": {
      "text/plain": [
       "True"
      ]
     },
     "execution_count": 167,
     "metadata": {},
     "output_type": "execute_result"
    }
   ],
   "source": [
    "not None"
   ]
  },
  {
   "cell_type": "code",
   "execution_count": 168,
   "id": "3821e064",
   "metadata": {},
   "outputs": [],
   "source": [
    "# Mutability and Immutability"
   ]
  },
  {
   "cell_type": "code",
   "execution_count": 169,
   "id": "7a0bab64",
   "metadata": {},
   "outputs": [],
   "source": [
    "# Mutability - changeable - can be modified(with out changing the memory address)\n",
    "#Immutability - Not changeable - can not be modified inplace"
   ]
  },
  {
   "cell_type": "code",
   "execution_count": 170,
   "id": "cd3730fc",
   "metadata": {},
   "outputs": [
    {
     "data": {
      "text/plain": [
       "'Hello World'"
      ]
     },
     "execution_count": 170,
     "metadata": {},
     "output_type": "execute_result"
    }
   ],
   "source": [
    "s1"
   ]
  },
  {
   "cell_type": "code",
   "execution_count": 171,
   "id": "53195379",
   "metadata": {},
   "outputs": [
    {
     "data": {
      "text/plain": [
       "'H'"
      ]
     },
     "execution_count": 171,
     "metadata": {},
     "output_type": "execute_result"
    }
   ],
   "source": [
    "s1[0]"
   ]
  },
  {
   "cell_type": "code",
   "execution_count": 172,
   "id": "cfdf45fb",
   "metadata": {},
   "outputs": [],
   "source": [
    "# Strings are Immutable"
   ]
  },
  {
   "cell_type": "code",
   "execution_count": 173,
   "id": "28dcf4e6",
   "metadata": {},
   "outputs": [
    {
     "data": {
      "text/plain": [
       "'Hello World'"
      ]
     },
     "execution_count": 173,
     "metadata": {},
     "output_type": "execute_result"
    }
   ],
   "source": [
    "s1"
   ]
  },
  {
   "cell_type": "code",
   "execution_count": 174,
   "id": "619a0ecd",
   "metadata": {},
   "outputs": [
    {
     "data": {
      "text/plain": [
       "2980477278512"
      ]
     },
     "execution_count": 174,
     "metadata": {},
     "output_type": "execute_result"
    }
   ],
   "source": [
    "id(s1)"
   ]
  },
  {
   "cell_type": "code",
   "execution_count": 175,
   "id": "63122d4d",
   "metadata": {},
   "outputs": [],
   "source": [
    "s1 = \"Bye\""
   ]
  },
  {
   "cell_type": "code",
   "execution_count": 176,
   "id": "93a9a0b5",
   "metadata": {},
   "outputs": [
    {
     "data": {
      "text/plain": [
       "2980477381104"
      ]
     },
     "execution_count": 176,
     "metadata": {},
     "output_type": "execute_result"
    }
   ],
   "source": [
    "id(s1)"
   ]
  },
  {
   "cell_type": "code",
   "execution_count": 177,
   "id": "c08998c0",
   "metadata": {},
   "outputs": [],
   "source": [
    "# Re-assignment"
   ]
  },
  {
   "cell_type": "code",
   "execution_count": 178,
   "id": "af4ca116",
   "metadata": {},
   "outputs": [],
   "source": [
    "s1 = \"Say\""
   ]
  },
  {
   "cell_type": "code",
   "execution_count": 179,
   "id": "82cb5acd",
   "metadata": {},
   "outputs": [
    {
     "data": {
      "text/plain": [
       "2980477360944"
      ]
     },
     "execution_count": 179,
     "metadata": {},
     "output_type": "execute_result"
    }
   ],
   "source": [
    "id(s1)"
   ]
  },
  {
   "cell_type": "code",
   "execution_count": 180,
   "id": "d83f029b",
   "metadata": {},
   "outputs": [
    {
     "data": {
      "text/plain": [
       "2980376177232"
      ]
     },
     "execution_count": 180,
     "metadata": {},
     "output_type": "execute_result"
    }
   ],
   "source": [
    "num1 = 10\n",
    "id(num1)"
   ]
  },
  {
   "cell_type": "code",
   "execution_count": 181,
   "id": "4f0dc954",
   "metadata": {},
   "outputs": [
    {
     "data": {
      "text/plain": [
       "2980376177552"
      ]
     },
     "execution_count": 181,
     "metadata": {},
     "output_type": "execute_result"
    }
   ],
   "source": [
    "num1 =20\n",
    "id(num1)"
   ]
  },
  {
   "cell_type": "code",
   "execution_count": 182,
   "id": "3871917b",
   "metadata": {},
   "outputs": [],
   "source": [
    "# integers are immutable"
   ]
  },
  {
   "cell_type": "code",
   "execution_count": 183,
   "id": "53a8ee91",
   "metadata": {},
   "outputs": [],
   "source": [
    "# all the fundamental data types are immutable"
   ]
  },
  {
   "cell_type": "code",
   "execution_count": 184,
   "id": "9c99ab25",
   "metadata": {},
   "outputs": [],
   "source": [
    "# Memory reusability"
   ]
  },
  {
   "cell_type": "code",
   "execution_count": 185,
   "id": "1cbb737e",
   "metadata": {},
   "outputs": [],
   "source": [
    "a = 1000"
   ]
  },
  {
   "cell_type": "code",
   "execution_count": 186,
   "id": "b74007be",
   "metadata": {},
   "outputs": [],
   "source": [
    "b = 1000"
   ]
  },
  {
   "cell_type": "code",
   "execution_count": 187,
   "id": "04e1d0d0",
   "metadata": {},
   "outputs": [
    {
     "data": {
      "text/plain": [
       "2980477399472"
      ]
     },
     "execution_count": 187,
     "metadata": {},
     "output_type": "execute_result"
    }
   ],
   "source": [
    "id(a)"
   ]
  },
  {
   "cell_type": "code",
   "execution_count": 188,
   "id": "a5c7da42",
   "metadata": {},
   "outputs": [
    {
     "data": {
      "text/plain": [
       "2980477399568"
      ]
     },
     "execution_count": 188,
     "metadata": {},
     "output_type": "execute_result"
    }
   ],
   "source": [
    "id(b)"
   ]
  },
  {
   "cell_type": "code",
   "execution_count": 189,
   "id": "3824085c",
   "metadata": {},
   "outputs": [],
   "source": [
    "c = 10"
   ]
  },
  {
   "cell_type": "code",
   "execution_count": 190,
   "id": "9916c128",
   "metadata": {},
   "outputs": [],
   "source": [
    "d = 10"
   ]
  },
  {
   "cell_type": "code",
   "execution_count": 191,
   "id": "72cffbde",
   "metadata": {},
   "outputs": [
    {
     "data": {
      "text/plain": [
       "2980376177232"
      ]
     },
     "execution_count": 191,
     "metadata": {},
     "output_type": "execute_result"
    }
   ],
   "source": [
    "id(c)"
   ]
  },
  {
   "cell_type": "code",
   "execution_count": 192,
   "id": "d185481a",
   "metadata": {},
   "outputs": [
    {
     "data": {
      "text/plain": [
       "2980376177232"
      ]
     },
     "execution_count": 192,
     "metadata": {},
     "output_type": "execute_result"
    }
   ],
   "source": [
    "id(d)"
   ]
  },
  {
   "cell_type": "code",
   "execution_count": 193,
   "id": "162b5c05",
   "metadata": {},
   "outputs": [],
   "source": [
    "# for the values between -5 to 256 the memory use is less/ the size of data is less\n",
    "# python preloads values of some integers in the cache/memory\n",
    "#-5 -256 are preloaded in the memory\n",
    "# when you give the value in between it refers to that location\n",
    "# That is why the id is same for those\n",
    "# It gives better optimization\n"
   ]
  },
  {
   "cell_type": "code",
   "execution_count": 194,
   "id": "d915af6b",
   "metadata": {},
   "outputs": [],
   "source": [
    "del d"
   ]
  },
  {
   "cell_type": "code",
   "execution_count": 195,
   "id": "4cd34de1",
   "metadata": {},
   "outputs": [
    {
     "ename": "NameError",
     "evalue": "name 'd' is not defined",
     "output_type": "error",
     "traceback": [
      "\u001b[1;31m---------------------------------------------------------------------------\u001b[0m",
      "\u001b[1;31mNameError\u001b[0m                                 Traceback (most recent call last)",
      "\u001b[1;32m~\\AppData\\Local\\Temp\\ipykernel_15800\\2103079758.py\u001b[0m in \u001b[0;36m<module>\u001b[1;34m\u001b[0m\n\u001b[1;32m----> 1\u001b[1;33m \u001b[0mid\u001b[0m\u001b[1;33m(\u001b[0m\u001b[0md\u001b[0m\u001b[1;33m)\u001b[0m\u001b[1;33m\u001b[0m\u001b[1;33m\u001b[0m\u001b[0m\n\u001b[0m",
      "\u001b[1;31mNameError\u001b[0m: name 'd' is not defined"
     ]
    }
   ],
   "source": [
    "id(d)"
   ]
  },
  {
   "cell_type": "code",
   "execution_count": 196,
   "id": "357f4d64",
   "metadata": {},
   "outputs": [
    {
     "data": {
      "text/plain": [
       "2980376177232"
      ]
     },
     "execution_count": 196,
     "metadata": {},
     "output_type": "execute_result"
    }
   ],
   "source": [
    "d=10\n",
    "id(10)"
   ]
  },
  {
   "cell_type": "code",
   "execution_count": 197,
   "id": "f5e35708",
   "metadata": {},
   "outputs": [
    {
     "data": {
      "text/plain": [
       "2980376177552"
      ]
     },
     "execution_count": 197,
     "metadata": {},
     "output_type": "execute_result"
    }
   ],
   "source": [
    "e = 20\n",
    "id(20)"
   ]
  },
  {
   "cell_type": "code",
   "execution_count": 198,
   "id": "0a07d96d",
   "metadata": {},
   "outputs": [
    {
     "data": {
      "text/plain": [
       "2980376177552"
      ]
     },
     "execution_count": 198,
     "metadata": {},
     "output_type": "execute_result"
    }
   ],
   "source": [
    "f = 20\n",
    "id(f)"
   ]
  },
  {
   "cell_type": "code",
   "execution_count": 199,
   "id": "03a8a2bc",
   "metadata": {},
   "outputs": [
    {
     "name": "stdout",
     "output_type": "stream",
     "text": [
      "2980459440496\n",
      "2980477399632\n"
     ]
    }
   ],
   "source": [
    "f1 = 20.5\n",
    "f2 = 20.5\n",
    "print(id(f1))\n",
    "print(id(f2))"
   ]
  },
  {
   "cell_type": "code",
   "execution_count": 200,
   "id": "24129d57",
   "metadata": {},
   "outputs": [],
   "source": [
    "# there is no memory reusability fo floats"
   ]
  },
  {
   "cell_type": "code",
   "execution_count": 202,
   "id": "d3b53f91",
   "metadata": {},
   "outputs": [
    {
     "name": "stdout",
     "output_type": "stream",
     "text": [
      "140726893017192\n",
      "140726893017192\n"
     ]
    }
   ],
   "source": [
    "b1 = True\n",
    "b2 = True\n",
    "print(id(b1))\n",
    "print(id(b2))"
   ]
  },
  {
   "cell_type": "code",
   "execution_count": 203,
   "id": "f4ad4fd6",
   "metadata": {},
   "outputs": [
    {
     "name": "stdout",
     "output_type": "stream",
     "text": [
      "140726893017224\n",
      "140726893017224\n"
     ]
    }
   ],
   "source": [
    "b1 = False\n",
    "b2 = False\n",
    "print(id(b1))\n",
    "print(id(b2))"
   ]
  },
  {
   "cell_type": "code",
   "execution_count": 204,
   "id": "8ceb44b0",
   "metadata": {},
   "outputs": [],
   "source": [
    "# Interning - another term for memory reusability"
   ]
  },
  {
   "cell_type": "code",
   "execution_count": 205,
   "id": "5ec01dc7",
   "metadata": {},
   "outputs": [
    {
     "name": "stdout",
     "output_type": "stream",
     "text": [
      "140726893067480\n",
      "140726893067480\n"
     ]
    }
   ],
   "source": [
    "b1 = None\n",
    "b2 = None\n",
    "print(id(b1))\n",
    "print(id(b2))"
   ]
  },
  {
   "cell_type": "code",
   "execution_count": 206,
   "id": "f7cffc48",
   "metadata": {},
   "outputs": [],
   "source": [
    "# Interning in strings"
   ]
  },
  {
   "cell_type": "code",
   "execution_count": 207,
   "id": "5c6a3b3e",
   "metadata": {},
   "outputs": [
    {
     "name": "stdout",
     "output_type": "stream",
     "text": [
      "2980477412464\n",
      "2980477413104\n"
     ]
    }
   ],
   "source": [
    "s1 = 'hello world'\n",
    "s2 = 'hello world'\n",
    "print(id(s1))\n",
    "print(id(s2))"
   ]
  },
  {
   "cell_type": "code",
   "execution_count": 208,
   "id": "26f25874",
   "metadata": {},
   "outputs": [
    {
     "name": "stdout",
     "output_type": "stream",
     "text": [
      "2980377318896\n",
      "2980377318896\n"
     ]
    }
   ],
   "source": [
    "s1 = 'a'\n",
    "s2 = 'a'\n",
    "print(id(s1))\n",
    "print(id(s2))"
   ]
  },
  {
   "cell_type": "code",
   "execution_count": 209,
   "id": "14735f2a",
   "metadata": {},
   "outputs": [
    {
     "name": "stdout",
     "output_type": "stream",
     "text": [
      "2980384737456\n",
      "2980384737456\n"
     ]
    }
   ],
   "source": [
    "s1 = 'A'\n",
    "s2 = 'A'\n",
    "print(id(s1))\n",
    "print(id(s2))"
   ]
  },
  {
   "cell_type": "code",
   "execution_count": 210,
   "id": "00b2cbff",
   "metadata": {},
   "outputs": [
    {
     "name": "stdout",
     "output_type": "stream",
     "text": [
      "2980385447664\n",
      "2980385447664\n"
     ]
    }
   ],
   "source": [
    "s1 = 'hi'\n",
    "s2 = 'hi'\n",
    "print(id(s1))\n",
    "print(id(s2))"
   ]
  },
  {
   "cell_type": "code",
   "execution_count": 211,
   "id": "ea27009a",
   "metadata": {},
   "outputs": [
    {
     "name": "stdout",
     "output_type": "stream",
     "text": [
      "2980455906864\n",
      "2980455906864\n"
     ]
    }
   ],
   "source": [
    "s1 = 'hello'\n",
    "s2 = 'hello'\n",
    "print(id(s1))\n",
    "print(id(s2))"
   ]
  },
  {
   "cell_type": "code",
   "execution_count": 212,
   "id": "0a1afa86",
   "metadata": {},
   "outputs": [
    {
     "name": "stdout",
     "output_type": "stream",
     "text": [
      "2980477417936\n",
      "2980477417936\n"
     ]
    }
   ],
   "source": [
    "s1 = 'hwlfgewfeljfelglergerlgerjlgerjerhghjergjerjjrgjergjerhjlhjer'\n",
    "s2 = 'hwlfgewfeljfelglergerlgerjlgerjerhghjergjerjjrgjergjerhjlhjer'\n",
    "print(id(s1))\n",
    "print(id(s2))"
   ]
  },
  {
   "cell_type": "code",
   "execution_count": 213,
   "id": "7030e1ec",
   "metadata": {},
   "outputs": [
    {
     "name": "stdout",
     "output_type": "stream",
     "text": [
      "2980477415344\n",
      "2980477415344\n"
     ]
    }
   ],
   "source": [
    "s1 = 'hello_world'\n",
    "s2 = 'hello_world'\n",
    "print(id(s1))\n",
    "print(id(s2))"
   ]
  },
  {
   "cell_type": "code",
   "execution_count": 214,
   "id": "8cb4f01b",
   "metadata": {},
   "outputs": [
    {
     "name": "stdout",
     "output_type": "stream",
     "text": [
      "2980477427952\n",
      "2980459812976\n"
     ]
    }
   ],
   "source": [
    "s1 = 'hello-world'\n",
    "s2 = 'hello-world'\n",
    "print(id(s1))\n",
    "print(id(s2))"
   ]
  },
  {
   "cell_type": "code",
   "execution_count": 215,
   "id": "a8d21b7d",
   "metadata": {},
   "outputs": [],
   "source": [
    "# Strings which follow the rules of identifiers can use memory reusability"
   ]
  },
  {
   "cell_type": "code",
   "execution_count": 216,
   "id": "fb792674",
   "metadata": {},
   "outputs": [
    {
     "name": "stdout",
     "output_type": "stream",
     "text": [
      "2980477428592\n",
      "2980477428592\n"
     ]
    }
   ],
   "source": [
    "s1 = '1hello'\n",
    "s2 = '1hello'\n",
    "print(id(s1))\n",
    "print(id(s2))"
   ]
  },
  {
   "cell_type": "code",
   "execution_count": 217,
   "id": "0499032e",
   "metadata": {},
   "outputs": [
    {
     "name": "stdout",
     "output_type": "stream",
     "text": [
      "2980477428528\n",
      "2980477428016\n"
     ]
    }
   ],
   "source": [
    "s1 = 'python3.9'\n",
    "s2 = 'python3.9'\n",
    "print(id(s1))\n",
    "print(id(s2))"
   ]
  },
  {
   "cell_type": "code",
   "execution_count": 227,
   "id": "c13dcfa1",
   "metadata": {},
   "outputs": [
    {
     "name": "stdout",
     "output_type": "stream",
     "text": [
      "ThisisPythonclass"
     ]
    }
   ],
   "source": [
    " my_str = 'This is Python class'\n",
    "for i in my_str:\n",
    "    if i!=' ':\n",
    "        print(i,end='')"
   ]
  },
  {
   "cell_type": "code",
   "execution_count": 229,
   "id": "d25ea09e",
   "metadata": {},
   "outputs": [
    {
     "name": "stdout",
     "output_type": "stream",
     "text": [
      "ThisisPythonclass"
     ]
    }
   ],
   "source": [
    "for i in my_str:\n",
    "    if i not in ' ':\n",
    "        print(i,end='')"
   ]
  },
  {
   "cell_type": "code",
   "execution_count": null,
   "id": "d7f3a735",
   "metadata": {},
   "outputs": [],
   "source": []
  }
 ],
 "metadata": {
  "kernelspec": {
   "display_name": "Python 3 (ipykernel)",
   "language": "python",
   "name": "python3"
  },
  "language_info": {
   "codemirror_mode": {
    "name": "ipython",
    "version": 3
   },
   "file_extension": ".py",
   "mimetype": "text/x-python",
   "name": "python",
   "nbconvert_exporter": "python",
   "pygments_lexer": "ipython3",
   "version": "3.9.13"
  }
 },
 "nbformat": 4,
 "nbformat_minor": 5
}
